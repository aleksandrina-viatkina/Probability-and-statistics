{
 "cells": [
  {
   "cell_type": "markdown",
   "id": "simple-spencer",
   "metadata": {},
   "source": [
    "### Задача\n",
    "\n",
    "Провести дисперсионный анализ для определения того, есть ли различия среднего роста среди взрослых футболистов, хоккеистов и штангистов. Даны значения роста в трех группах случайно выбранных спортсменов: Футболисты: 173, 175, 180, 178, 177, 185, 183, 182. Хоккеисты: 177, 179, 180, 188, 177, 172, 171, 184, 180. Штангисты: 172, 173, 169, 177, 166, 180, 178, 177, 172, 166, 170."
   ]
  },
  {
   "cell_type": "code",
   "execution_count": 89,
   "id": "regulation-album",
   "metadata": {},
   "outputs": [],
   "source": [
    "import numpy as np\n",
    "from scipy import stats"
   ]
  },
  {
   "cell_type": "code",
   "execution_count": 90,
   "id": "artificial-stanley",
   "metadata": {},
   "outputs": [],
   "source": [
    "# Рассчитаем с помощью функции\n",
    "\n",
    "# Нулевая гипотеза - статистически значимых различий нет, \n",
    "# Альтернативная - статистически значимые различия есть\n",
    "alpha = 0.05\n",
    "\n",
    "footballers = np.array([173, 175, 180, 178, 177, 185, 183, 182])\n",
    "hockey_playes = np.array([177, 179, 180, 188, 177, 172, 171, 184, 180 ])\n",
    "weightlifters = np.array([172, 173, 169, 177, 166, 180, 178, 177, 172, 166, 170])\n",
    "\n",
    "x1 = footballers\n",
    "x2 = hockey_playes\n",
    "x3 = weightlifters"
   ]
  },
  {
   "cell_type": "code",
   "execution_count": 91,
   "id": "japanese-blame",
   "metadata": {},
   "outputs": [
    {
     "data": {
      "text/plain": [
       "F_onewayResult(statistic=5.500053450812596, pvalue=0.010482206918698694)"
      ]
     },
     "execution_count": 91,
     "metadata": {},
     "output_type": "execute_result"
    }
   ],
   "source": [
    "stats.f_oneway(x1, x2, x3)"
   ]
  },
  {
   "cell_type": "markdown",
   "id": "experienced-marketplace",
   "metadata": {},
   "source": [
    "p-value (1%) меньше alpha (5%), т. е. принимаем альтернативную гипотезу, т.е. средние значения роста 3х подгрупп статистически различимы"
   ]
  },
  {
   "cell_type": "markdown",
   "id": "weighted-making",
   "metadata": {},
   "source": [
    "**Рассчитаем вручную**"
   ]
  },
  {
   "cell_type": "code",
   "execution_count": 92,
   "id": "pediatric-smoke",
   "metadata": {},
   "outputs": [],
   "source": [
    "x1_mean = np.mean(x1) # находим среднее по росту футболистов\n",
    "x2_mean = np.mean(x2) # среднее по росту хоккеистов\n",
    "x3_mean = np.mean(x3) # среднее по росту штангистов\n",
    "\n",
    "# создаем общий массив из всех наблюдений:\n",
    "x_total = np.concatenate([x1, x2, x3]) \n",
    "\n",
    "# находим общее среднее по всем наблюдениям\n",
    "X_mean = np.mean(x_total)  "
   ]
  },
  {
   "cell_type": "code",
   "execution_count": 93,
   "id": "gross-ghana",
   "metadata": {},
   "outputs": [
    {
     "data": {
      "text/plain": [
       "253.9074675324678"
      ]
     },
     "execution_count": 93,
     "metadata": {},
     "output_type": "execute_result"
    }
   ],
   "source": [
    "# найдем сумму квадратов отклонений средних по группам от среднего по всем наблюдениям (междгрупповая сумма отклонений)\n",
    "n1 = len(x1) # количество наблюдений у футболистов\n",
    "n2 = len(x2) # у хоккеистов\n",
    "n3 = len(x3) # у штангистов\n",
    "\n",
    "Sf = (x1_mean - X_mean)**2*n1 + (x2_mean - X_mean)**2*n2 + (x3_mean - X_mean)**2*n3\n",
    "Sf"
   ]
  },
  {
   "cell_type": "code",
   "execution_count": 94,
   "id": "sacred-rehabilitation",
   "metadata": {},
   "outputs": [
    {
     "data": {
      "text/plain": [
       "577.0568181818182"
      ]
     },
     "execution_count": 94,
     "metadata": {},
     "output_type": "execute_result"
    }
   ],
   "source": [
    "# найдем остаточную сумму квадратов отклонений (внутригрупповую)\n",
    "\n",
    "S_residual = ((x1 - x1_mean)**2).sum() + ((x2 - x2_mean)**2).sum() + ((x3 - x3_mean)**2).sum()\n",
    "S_residual"
   ]
  },
  {
   "cell_type": "code",
   "execution_count": 95,
   "id": "significant-armstrong",
   "metadata": {},
   "outputs": [
    {
     "data": {
      "text/plain": [
       "126.9537337662339"
      ]
     },
     "execution_count": 95,
     "metadata": {},
     "output_type": "execute_result"
    }
   ],
   "source": [
    "# вычислим факторную дисперсию\n",
    "k = 3 # количество групп\n",
    "\n",
    "var_f = Sf/(k-1)\n",
    "var_f"
   ]
  },
  {
   "cell_type": "code",
   "execution_count": 96,
   "id": "international-patrol",
   "metadata": {},
   "outputs": [
    {
     "data": {
      "text/plain": [
       "23.08227272727273"
      ]
     },
     "execution_count": 96,
     "metadata": {},
     "output_type": "execute_result"
    }
   ],
   "source": [
    "# вычислим остаточную дисперсию\n",
    "\n",
    "var_residual = S_residual/(len(x_total) - k)\n",
    "var_residual"
   ]
  },
  {
   "cell_type": "code",
   "execution_count": 97,
   "id": "arabic-grammar",
   "metadata": {},
   "outputs": [
    {
     "data": {
      "text/plain": [
       "5.500053450812598"
      ]
     },
     "execution_count": 97,
     "metadata": {},
     "output_type": "execute_result"
    }
   ],
   "source": [
    "# Найдем рассчетное значение F критерия Фишера\n",
    "\n",
    "F_count = var_f/var_residual\n",
    "F_count\n",
    "\n",
    "# Рассчитанное вручную значение критерия Фишера совпадает с рассчитанным с помощью функции"
   ]
  },
  {
   "cell_type": "code",
   "execution_count": 98,
   "id": "damaged-intent",
   "metadata": {},
   "outputs": [
    {
     "data": {
      "text/plain": [
       "28"
      ]
     },
     "execution_count": 98,
     "metadata": {},
     "output_type": "execute_result"
    }
   ],
   "source": [
    "len(x_total)"
   ]
  },
  {
   "cell_type": "code",
   "execution_count": 99,
   "id": "determined-cleaners",
   "metadata": {},
   "outputs": [],
   "source": [
    "# Найдем табличное значение F критерия Фишера\n",
    "# степени свободны числителя = 3-1 = 2 - смотрим по горизонтали\n",
    "# степени свободы знаменателя = 28 - 3 = 25 - смотрим по вертикали\n",
    "F_table = 3.38"
   ]
  },
  {
   "cell_type": "code",
   "execution_count": 100,
   "id": "homeless-louisville",
   "metadata": {},
   "outputs": [
    {
     "name": "stdout",
     "output_type": "stream",
     "text": [
      "Принимаем альтернативную гипотезу, средние по подгруппам статистически различимы\n"
     ]
    }
   ],
   "source": [
    "if F_table > F_count:\n",
    "    print('Принимаем нулевую гипотезу, статистически значимых отличий между средними значениям подгрупп нет')\n",
    "else: \n",
    "    print('Принимаем альтернативную гипотезу, средние по подгруппам статистически различимы')"
   ]
  },
  {
   "cell_type": "code",
   "execution_count": null,
   "id": "floral-afternoon",
   "metadata": {},
   "outputs": [],
   "source": []
  }
 ],
 "metadata": {
  "kernelspec": {
   "display_name": "Python 3",
   "language": "python",
   "name": "python3"
  },
  "language_info": {
   "codemirror_mode": {
    "name": "ipython",
    "version": 3
   },
   "file_extension": ".py",
   "mimetype": "text/x-python",
   "name": "python",
   "nbconvert_exporter": "python",
   "pygments_lexer": "ipython3",
   "version": "3.9.2"
  }
 },
 "nbformat": 4,
 "nbformat_minor": 5
}
