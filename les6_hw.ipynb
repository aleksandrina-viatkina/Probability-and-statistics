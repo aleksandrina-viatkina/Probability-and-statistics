{
 "cells": [
  {
   "cell_type": "markdown",
   "id": "strong-value",
   "metadata": {},
   "source": [
    "### Задача 1\n",
    "\n",
    "Даны значения величины заработной платы заемщиков банка (zp) и значения их поведенческого кредитного скоринга (ks):\n",
    "zp = [35, 45, 190, 200, 40, 70, 54, 150, 120, 110],\n",
    "ks = [401, 574, 874, 919, 459, 739, 653, 902, 746, 832].\n",
    "Найдите ковариацию этих двух величин с помощью элементарных действий, а затем с помощью функции cov из numpy\n",
    "Полученные значения должны быть равны.\n",
    "Найдите коэффициент корреляции Пирсона с помощью ковариации и среднеквадратичных отклонений двух признаков,\n",
    "а затем с использованием функций из библиотек numpy и pandas."
   ]
  },
  {
   "cell_type": "code",
   "execution_count": 71,
   "id": "promotional-validation",
   "metadata": {},
   "outputs": [],
   "source": [
    "import numpy as np\n",
    "from math import sqrt"
   ]
  },
  {
   "cell_type": "code",
   "execution_count": 72,
   "id": "indian-transformation",
   "metadata": {},
   "outputs": [
    {
     "data": {
      "text/plain": [
       "array([ 14035,  25830, 166060, 183800,  18360,  51730,  35262, 135300,\n",
       "        89520,  91520])"
      ]
     },
     "execution_count": 72,
     "metadata": {},
     "output_type": "execute_result"
    }
   ],
   "source": [
    "zp = np.array([35, 45, 190, 200, 40, 70, 54, 150, 120, 110])\n",
    "ks = np.array([401, 574, 874, 919, 459, 739, 653, 902, 746, 832])\n",
    "zp*ks"
   ]
  },
  {
   "cell_type": "code",
   "execution_count": 73,
   "id": "flexible-cedar",
   "metadata": {},
   "outputs": [
    {
     "data": {
      "text/plain": [
       "9157.839999999997"
      ]
     },
     "execution_count": 73,
     "metadata": {},
     "output_type": "execute_result"
    }
   ],
   "source": [
    "covcoeff = (zp*ks).mean() - zp.mean()*ks.mean()\n",
    "covcoeff"
   ]
  },
  {
   "cell_type": "code",
   "execution_count": 74,
   "id": "unsigned-transport",
   "metadata": {},
   "outputs": [
    {
     "data": {
      "text/plain": [
       "array([[ 3494.64,  9157.84],\n",
       "       [ 9157.84, 30468.89]])"
      ]
     },
     "execution_count": 74,
     "metadata": {},
     "output_type": "execute_result"
    }
   ],
   "source": [
    "# проверим с помощью встроенной функции из numpy\n",
    "covcoef1 = np.cov(zp,ks, ddof = 0)\n",
    "covcoef1\n",
    "\n",
    "# значение совпадает с рассчитанным только при ddof=0,  т е при смещенном стандартном отклонении"
   ]
  },
  {
   "cell_type": "code",
   "execution_count": 75,
   "id": "special-inspiration",
   "metadata": {},
   "outputs": [
    {
     "data": {
      "text/plain": [
       "0.8874900920739158"
      ]
     },
     "execution_count": 75,
     "metadata": {},
     "output_type": "execute_result"
    }
   ],
   "source": [
    "# в знаменателе учитываем смещенное стаднартное отклонение\n",
    "\n",
    "corrcoef = covcoef/(sqrt(np.var(zp))*sqrt(np.var(ks)))\n",
    "corrcoef"
   ]
  },
  {
   "cell_type": "code",
   "execution_count": 76,
   "id": "weird-satisfaction",
   "metadata": {},
   "outputs": [
    {
     "data": {
      "text/plain": [
       "array([[1.        , 0.88749009],\n",
       "       [0.88749009, 1.        ]])"
      ]
     },
     "execution_count": 76,
     "metadata": {},
     "output_type": "execute_result"
    }
   ],
   "source": [
    "#Проверим, чтобы рассчитанное значение совпадало со значением, полученным по встроенной функции numpy\n",
    "corrcoef1 = np.corrcoef(zp,ks)\n",
    "corrcoef1"
   ]
  },
  {
   "cell_type": "markdown",
   "id": "fatal-spirituality",
   "metadata": {},
   "source": [
    "### Задача 2\n",
    "Измерены значения IQ выборки студентов,\n",
    "обучающихся в местных технических вузах:\n",
    "131, 125, 115, 122, 131, 115, 107, 99, 125, 111.\n",
    "Известно, что в генеральной совокупности IQ распределен нормально.\n",
    "Найдите доверительный интервал для математического ожидания с надежностью 0.95."
   ]
  },
  {
   "cell_type": "code",
   "execution_count": 77,
   "id": "remarkable-daisy",
   "metadata": {},
   "outputs": [],
   "source": [
    "a = [131, 125, 115, 122, 131, 115, 107, 99, 125, 111]\n",
    "alpha = 0.05\n",
    "n = len(a)\n",
    "X_mean = sum(a)/len(a)\n",
    "std = sqrt(np.var(a, ddof = 1))\n",
    "\n",
    "# т к отсутствует дисперсия, будем использовать  t-критерий Стъюдента"
   ]
  },
  {
   "cell_type": "code",
   "execution_count": 78,
   "id": "decimal-climb",
   "metadata": {},
   "outputs": [],
   "source": [
    "#найдем значение t-критерия для альфа = 0.05/2 = 0.025 и 9 степеней свободы\n",
    "t = 2.262"
   ]
  },
  {
   "cell_type": "code",
   "execution_count": 79,
   "id": "lasting-residence",
   "metadata": {},
   "outputs": [
    {
     "data": {
      "text/plain": [
       "[110.55660776308164, 125.64339223691834]"
      ]
     },
     "execution_count": 79,
     "metadata": {},
     "output_type": "execute_result"
    }
   ],
   "source": [
    "interval = [X_mean - t*std/sqrt(n), X_mean + t*std/sqrt(n)]\n",
    "interval"
   ]
  },
  {
   "cell_type": "markdown",
   "id": "active-fraction",
   "metadata": {},
   "source": [
    "### Задача 3\n",
    "Известно, что рост футболистов в сборной распределен нормально\n",
    "с дисперсией генеральной совокупности, равной 25 кв.см. Объем выборки равен 27,\n",
    "среднее выборочное составляет 174.2. Найдите доверительный интервал для математического ожидания с надежностью 0.95."
   ]
  },
  {
   "cell_type": "code",
   "execution_count": 80,
   "id": "waiting-leone",
   "metadata": {},
   "outputs": [],
   "source": [
    "D = 25\n",
    "std = sqrt(D)\n",
    "n = 27\n",
    "X_mean = 174.2\n",
    "alpha = 0.05\n",
    "\n",
    "# Используем Z-критерий"
   ]
  },
  {
   "cell_type": "code",
   "execution_count": 81,
   "id": "unusual-announcement",
   "metadata": {},
   "outputs": [],
   "source": [
    "# найдем Z критерий для a = 0.05/2 = 0.025\n",
    "Z = 1.96"
   ]
  },
  {
   "cell_type": "code",
   "execution_count": 82,
   "id": "suitable-belle",
   "metadata": {},
   "outputs": [
    {
     "data": {
      "text/plain": [
       "[172.31398912064722, 176.08601087935276]"
      ]
     },
     "execution_count": 82,
     "metadata": {},
     "output_type": "execute_result"
    }
   ],
   "source": [
    "interval = [X_mean - Z*std/sqrt(n), X_mean + Z*std/sqrt(n)]\n",
    "interval"
   ]
  },
  {
   "cell_type": "markdown",
   "id": "demonstrated-stewart",
   "metadata": {},
   "source": [
    "### Задача 4\n",
    "Выберите тему для проектной работы по курсу Теории вероятностей и математической статистики"
   ]
  },
  {
   "cell_type": "code",
   "execution_count": 83,
   "id": "double-leader",
   "metadata": {},
   "outputs": [],
   "source": [
    "# Пока затрудняюсь с выбором темы для курсовой\n",
    "# Наиболее привлекательны : EDA, тестирование гипотезы (пока не поняла, как это применить к датасету из kaggle)"
   ]
  }
 ],
 "metadata": {
  "kernelspec": {
   "display_name": "Python 3",
   "language": "python",
   "name": "python3"
  },
  "language_info": {
   "codemirror_mode": {
    "name": "ipython",
    "version": 3
   },
   "file_extension": ".py",
   "mimetype": "text/x-python",
   "name": "python",
   "nbconvert_exporter": "python",
   "pygments_lexer": "ipython3",
   "version": "3.9.2"
  }
 },
 "nbformat": 4,
 "nbformat_minor": 5
}
