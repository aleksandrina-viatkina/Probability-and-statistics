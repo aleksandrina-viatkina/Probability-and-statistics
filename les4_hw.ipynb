{
 "cells": [
  {
   "cell_type": "markdown",
   "id": "veterinary-radar",
   "metadata": {},
   "source": [
    "### Задача 1\n",
    "Случайная непрерывная величина A имеет равномерное распределение на промежутке (200, 800].\n",
    "Найдите ее среднее значение и дисперсию."
   ]
  },
  {
   "cell_type": "code",
   "execution_count": 38,
   "id": "restricted-equipment",
   "metadata": {},
   "outputs": [
    {
     "name": "stdout",
     "output_type": "stream",
     "text": [
      "Математическое ожидание = 500.0\n"
     ]
    }
   ],
   "source": [
    "M = (200+800)/2\n",
    "print(f'Математическое ожидание = {M}')"
   ]
  },
  {
   "cell_type": "code",
   "execution_count": 39,
   "id": "accessible-album",
   "metadata": {},
   "outputs": [
    {
     "name": "stdout",
     "output_type": "stream",
     "text": [
      "Дисперсия = 30000.00\n"
     ]
    }
   ],
   "source": [
    "D = (800-200)**2/12\n",
    "print(f'Дисперсия = {D:.2f}')"
   ]
  },
  {
   "cell_type": "markdown",
   "id": "compliant-insert",
   "metadata": {},
   "source": [
    "### Задача 2\n",
    "О случайной непрерывной равномерно распределенной величине B известно, что ее дисперсия равна 0.2.\n",
    "Можно ли найти правую границу величины B и ее среднее значение зная, что левая граница равна 0.5?\n",
    "Если да, найдите ее."
   ]
  },
  {
   "cell_type": "markdown",
   "id": "designing-designer",
   "metadata": {},
   "source": [
    "Пусть правая граница = x\n",
    "\n",
    "0.2 = (x - 0.5)**2/12\n",
    "\n",
    "2.4 = (x-0.5)**2\n",
    "\n",
    "1.55 = x-0.5\n",
    "\n",
    "x = 2.05"
   ]
  },
  {
   "cell_type": "code",
   "execution_count": 40,
   "id": "general-vanilla",
   "metadata": {},
   "outputs": [
    {
     "data": {
      "text/plain": [
       "1.275"
      ]
     },
     "execution_count": 40,
     "metadata": {},
     "output_type": "execute_result"
    }
   ],
   "source": [
    "a = 0.5\n",
    "b = 2.05\n",
    "M = (a+b)/2\n",
    "M"
   ]
  },
  {
   "cell_type": "markdown",
   "id": "bacterial-distance",
   "metadata": {},
   "source": [
    "### Задача 3\n",
    "Непрерывная случайная величина X распределена нормально и задана плотностью распределения\n",
    "f(x) = (1 / (4 * sqrt(2*pi))) * (exp(-((x+2)**2) / 32))\n",
    "Найдите:\n",
    "а). M(X)\n",
    "б). D(X)\n",
    "в). std(X) (среднее квадратичное отклонение)"
   ]
  },
  {
   "cell_type": "code",
   "execution_count": 41,
   "id": "otherwise-medline",
   "metadata": {},
   "outputs": [],
   "source": [
    "# a) M(X)\n",
    "\n",
    "M = 2"
   ]
  },
  {
   "cell_type": "code",
   "execution_count": 42,
   "id": "functioning-richmond",
   "metadata": {},
   "outputs": [],
   "source": [
    "# б) D(X)\n",
    "\n",
    "D = 16"
   ]
  },
  {
   "cell_type": "code",
   "execution_count": 43,
   "id": "fatal-commerce",
   "metadata": {},
   "outputs": [],
   "source": [
    "# в) std(X)\n",
    "\n",
    "std = 4"
   ]
  },
  {
   "cell_type": "markdown",
   "id": "intimate-serve",
   "metadata": {},
   "source": [
    "### Задача 4\n",
    "Рост взрослого населения города X имеет нормальное распределение.\n",
    "Причем, средний рост равен 174 см, а среднее квадратичное отклонение равно 8 см.\n",
    "Какова вероятность того, что случайным образом выбранный взрослый человек имеет рост:"
   ]
  },
  {
   "cell_type": "code",
   "execution_count": 44,
   "id": "earlier-commissioner",
   "metadata": {},
   "outputs": [],
   "source": [
    "mu = 174\n",
    "std = 8"
   ]
  },
  {
   "cell_type": "code",
   "execution_count": 45,
   "id": "developmental-causing",
   "metadata": {},
   "outputs": [
    {
     "data": {
      "text/plain": [
       "1.0"
      ]
     },
     "execution_count": 45,
     "metadata": {},
     "output_type": "execute_result"
    }
   ],
   "source": [
    "# a) больше 182 см\n",
    "Z = (182 - mu)/std\n",
    "Z"
   ]
  },
  {
   "cell_type": "code",
   "execution_count": 46,
   "id": "running-infection",
   "metadata": {},
   "outputs": [
    {
     "name": "stdout",
     "output_type": "stream",
     "text": [
      "Вероятность, что случайный человек будет иметь рост > 182 см = 0.15869999999999995\n"
     ]
    }
   ],
   "source": [
    "# по таблице P(1) = 0.8413, тогда вероятность того, что больше:\n",
    "P = 1 - 0.8413\n",
    "print(f'Вероятность, что случайный человек будет иметь рост > 182 см = {P}')"
   ]
  },
  {
   "cell_type": "code",
   "execution_count": 47,
   "id": "metallic-bundle",
   "metadata": {},
   "outputs": [
    {
     "data": {
      "text/plain": [
       "2.0"
      ]
     },
     "execution_count": 47,
     "metadata": {},
     "output_type": "execute_result"
    }
   ],
   "source": [
    "# б) больше 190 см\n",
    "Z = (190 - mu)/std\n",
    "Z"
   ]
  },
  {
   "cell_type": "code",
   "execution_count": 48,
   "id": "cross-tracy",
   "metadata": {},
   "outputs": [
    {
     "name": "stdout",
     "output_type": "stream",
     "text": [
      "Вероятность, что случайный человек будет иметь рост > 190 см = 0.022800000000000042\n"
     ]
    }
   ],
   "source": [
    "# по таблице P(2) = 0.9772, тогда вероятность того, что больше:\n",
    "P = 1 - 0.9772\n",
    "print(f'Вероятность, что случайный человек будет иметь рост > 190 см = {P}')"
   ]
  },
  {
   "cell_type": "code",
   "execution_count": 49,
   "id": "liked-trick",
   "metadata": {},
   "outputs": [
    {
     "name": "stdout",
     "output_type": "stream",
     "text": [
      "Z1 = -1.0, Z2 = 2.0\n"
     ]
    }
   ],
   "source": [
    "# в) от 166 см до 190 см\n",
    "Z1 = (166 - mu)/std\n",
    "Z2 = (190 - mu)/std\n",
    "print(f'Z1 = {Z1}, Z2 = {Z2}')"
   ]
  },
  {
   "cell_type": "code",
   "execution_count": 50,
   "id": "guilty-turkey",
   "metadata": {},
   "outputs": [
    {
     "name": "stdout",
     "output_type": "stream",
     "text": [
      "Вероятность, что случайный человек будет иметь рост 166 < X < 190 = 0.8185\n"
     ]
    }
   ],
   "source": [
    "# по таблице P(2) = 0.9772, P(-1) = 0.1587, тогда P от 166 до 190 см:\n",
    "P = 0.9772 - 0.1587\n",
    "print(f'Вероятность, что случайный человек будет иметь рост 166 < X < 190 = {P}')"
   ]
  },
  {
   "cell_type": "code",
   "execution_count": 51,
   "id": "accepting-wrist",
   "metadata": {},
   "outputs": [
    {
     "name": "stdout",
     "output_type": "stream",
     "text": [
      "Z1 = -1.0, Z2 = 1.0\n"
     ]
    }
   ],
   "source": [
    "# г) от 166 см до 182 см\n",
    "Z1 = (166 - mu)/std\n",
    "Z2 = (182 - mu)/std\n",
    "print(f'Z1 = {Z1}, Z2 = {Z2}')"
   ]
  },
  {
   "cell_type": "code",
   "execution_count": 52,
   "id": "binding-interim",
   "metadata": {},
   "outputs": [
    {
     "name": "stdout",
     "output_type": "stream",
     "text": [
      "Вероятность, что случайный человек будет иметь рост 166 < X < 182 = 0.6826000000000001\n"
     ]
    }
   ],
   "source": [
    "# по таблице P(1) = 0.8413, P(-1) = 0.1587, тогда P от 166 до 182 см:\n",
    "P = 0.8413 - 0.1587\n",
    "print(f'Вероятность, что случайный человек будет иметь рост 166 < X < 182 = {P}')"
   ]
  },
  {
   "cell_type": "code",
   "execution_count": 53,
   "id": "caroline-workstation",
   "metadata": {},
   "outputs": [
    {
     "name": "stdout",
     "output_type": "stream",
     "text": [
      "Z1 = -2.0, Z2 = 2.0\n"
     ]
    }
   ],
   "source": [
    "# д) от 158 см до 190 см\n",
    "Z1 = (158 - mu)/std\n",
    "Z2 = (190 - mu)/std\n",
    "print(f'Z1 = {Z1}, Z2 = {Z2}')"
   ]
  },
  {
   "cell_type": "code",
   "execution_count": 54,
   "id": "settled-martial",
   "metadata": {},
   "outputs": [
    {
     "name": "stdout",
     "output_type": "stream",
     "text": [
      "Вероятность, что случайный человек будет иметь рост 158 < X < 190 = 0.9543999999999999\n"
     ]
    }
   ],
   "source": [
    "# по таблице P(-2)= 0.0228, P(2) = 0.9772, тогда P от 158 до 190 см:\n",
    "P = 0.9772 - 0.0228\n",
    "print(f'Вероятность, что случайный человек будет иметь рост 158 < X < 190 = {P}')"
   ]
  },
  {
   "cell_type": "code",
   "execution_count": 55,
   "id": "sapphire-payday",
   "metadata": {},
   "outputs": [
    {
     "name": "stdout",
     "output_type": "stream",
     "text": [
      "Z1 = -3.0, Z2 = 2.0\n"
     ]
    }
   ],
   "source": [
    "# е) не выше 150 см или не ниже 190 см\n",
    "Z1 = (150 - mu)/std\n",
    "Z2 = (190 - mu)/std\n",
    "print(f'Z1 = {Z1}, Z2 = {Z2}')"
   ]
  },
  {
   "cell_type": "code",
   "execution_count": 56,
   "id": "occupied-nowhere",
   "metadata": {},
   "outputs": [
    {
     "name": "stdout",
     "output_type": "stream",
     "text": [
      "Вероятность, что случайный человек будет иметь рост не выше 150 и не ниже 190 = 0.02420000000000004\n"
     ]
    }
   ],
   "source": [
    "# по таблице P(-3)= 0.0014, P(2) = 0.9772, тогда P для не выше 150 и не ниже 190:\n",
    "P = (1-0.9772) + 0.0014\n",
    "print(f'Вероятность, что случайный человек будет иметь рост не выше 150 и не ниже 190 = {P}')"
   ]
  },
  {
   "cell_type": "code",
   "execution_count": 57,
   "id": "employed-document",
   "metadata": {},
   "outputs": [
    {
     "name": "stdout",
     "output_type": "stream",
     "text": [
      "Z1 = -3.0, Z2 = 3.0\n"
     ]
    }
   ],
   "source": [
    "# ё) не выше 150 см или не ниже 198 см\n",
    "Z1 = (150 - mu)/std\n",
    "Z2 = (198 - mu)/std\n",
    "print(f'Z1 = {Z1}, Z2 = {Z2}')"
   ]
  },
  {
   "cell_type": "code",
   "execution_count": 58,
   "id": "supported-number",
   "metadata": {},
   "outputs": [
    {
     "name": "stdout",
     "output_type": "stream",
     "text": [
      "Вероятность, что случайный человек будет иметь рост не выше 150 и не ниже 198 = 0.002699999999999968\n"
     ]
    }
   ],
   "source": [
    "# по таблице P(-3)= 0.0014, P(3) = 0.9987, тогда P для не выше 150 и не ниже 198:\n",
    "P = (1-0.9987) + 0.0014\n",
    "print(f'Вероятность, что случайный человек будет иметь рост не выше 150 и не ниже 198 = {P}')"
   ]
  },
  {
   "cell_type": "code",
   "execution_count": 59,
   "id": "recorded-sherman",
   "metadata": {},
   "outputs": [
    {
     "data": {
      "text/plain": [
       "-1.0"
      ]
     },
     "execution_count": 59,
     "metadata": {},
     "output_type": "execute_result"
    }
   ],
   "source": [
    "# ж) ниже 166 см.\n",
    "Z = (166 - mu)/std\n",
    "Z"
   ]
  },
  {
   "cell_type": "markdown",
   "id": "comprehensive-privilege",
   "metadata": {},
   "source": [
    "По таблице вероятность = 0.1587"
   ]
  },
  {
   "cell_type": "markdown",
   "id": "removed-giant",
   "metadata": {},
   "source": [
    "### Задача 5\n",
    "На сколько сигм (средних квадратичных отклонений) отклоняется рост человека, равный 190 см, от\n",
    "математического ожидания роста в популяции, в которой M(X) = 178 см и D(X) = 25 кв.см?"
   ]
  },
  {
   "cell_type": "code",
   "execution_count": 60,
   "id": "upper-poker",
   "metadata": {},
   "outputs": [
    {
     "name": "stdout",
     "output_type": "stream",
     "text": [
      "Рост человека 190 см отклоняется от мат. ожидания на 2.4 сигм\n"
     ]
    }
   ],
   "source": [
    "Z = (190-178)/5\n",
    "print(f'Рост человека 190 см отклоняется от мат. ожидания на {Z} сигм')"
   ]
  },
  {
   "cell_type": "code",
   "execution_count": null,
   "id": "typical-contractor",
   "metadata": {},
   "outputs": [],
   "source": []
  }
 ],
 "metadata": {
  "kernelspec": {
   "display_name": "Python 3",
   "language": "python",
   "name": "python3"
  },
  "language_info": {
   "codemirror_mode": {
    "name": "ipython",
    "version": 3
   },
   "file_extension": ".py",
   "mimetype": "text/x-python",
   "name": "python",
   "nbconvert_exporter": "python",
   "pygments_lexer": "ipython3",
   "version": "3.9.2"
  }
 },
 "nbformat": 4,
 "nbformat_minor": 5
}
