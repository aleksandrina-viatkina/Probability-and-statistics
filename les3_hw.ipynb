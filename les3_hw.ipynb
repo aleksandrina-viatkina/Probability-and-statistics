{
 "cells": [
  {
   "cell_type": "markdown",
   "id": "demographic-marine",
   "metadata": {},
   "source": [
    "### **Задача 1.**\n",
    "Даны значения зарплат из выборки выпускников: 100, 80, 75, 77, 89, 33, 45, 25, 65, 17, 30, 24, 57, 55, 70, 75, 65, 84, 90, 150. Посчитать (желательно без использования статистических методов наподобие std, var, mean) среднее арифметическое, среднее квадратичное отклонение, смещенную и несмещенную оценки дисперсий для данной выборки."
   ]
  },
  {
   "cell_type": "code",
   "execution_count": 82,
   "id": "public-english",
   "metadata": {},
   "outputs": [
    {
     "name": "stdout",
     "output_type": "stream",
     "text": [
      "Длина массива а = 20,  сумма элементов - 1306\n",
      "Среднее арифметическое = 65.3\n"
     ]
    }
   ],
   "source": [
    "a = [100, 80, 75, 77, 89, 33, 45, 25, 65, 17, 30, 24, 57, 55, 70, 75, 65, 84, 90, 150]\n",
    "len_a = len(a)\n",
    "sum_a = sum(a)\n",
    "print(f'Длина массива а = {len_a},  сумма элементов - {sum_a}')\n",
    "arithmetic_mean_a = sum_a/len_a\n",
    "print(f'Среднее арифметическое = {arithmetic_mean_a}')"
   ]
  },
  {
   "cell_type": "code",
   "execution_count": 83,
   "id": "liquid-penguin",
   "metadata": {},
   "outputs": [
    {
     "data": {
      "text/plain": [
       "19002.2"
      ]
     },
     "execution_count": 83,
     "metadata": {},
     "output_type": "execute_result"
    }
   ],
   "source": [
    "#Далее рассчитаем смещенную и несмещенную дисперсии\n",
    "#Сначала рассчитаем сумму квадратов отклонений каждого значения массива а от среднего\n",
    "\n",
    "sum_of_deviations = 0\n",
    "for element in a:\n",
    "    dev = (element - arithmetic_mean_a)**2\n",
    "    sum_of_deviations += dev\n",
    "sum_of_deviations"
   ]
  },
  {
   "cell_type": "code",
   "execution_count": 84,
   "id": "removed-oliver",
   "metadata": {},
   "outputs": [],
   "source": [
    "from math import sqrt"
   ]
  },
  {
   "cell_type": "code",
   "execution_count": 85,
   "id": "outside-music",
   "metadata": {},
   "outputs": [
    {
     "name": "stdout",
     "output_type": "stream",
     "text": [
      "Смещенная дисперсия = 950.11, \n",
      "Несмещенная дисперсия = 1000.12, \n",
      "Среднее квадратичное отклонение = 30.82, \n",
      "Несмещенная оценка среднего квадратичного отклонения = 31.62\n"
     ]
    }
   ],
   "source": [
    "biased_var = sum_of_deviations/len(a)\n",
    "unbiased_var = sum_of_deviations/(len(a)-1)\n",
    "\n",
    "print(f'Смещенная дисперсия = {biased_var:.2f}, \\nНесмещенная дисперсия = {unbiased_var:.2f}, \\\n",
    "\\nСреднее квадратичное отклонение = {sqrt(biased_var):.2f}, \\\n",
    "\\nНесмещенная оценка среднего квадратичного отклонения = {sqrt(unbiased_var):.2f}')"
   ]
  },
  {
   "cell_type": "markdown",
   "id": "professional-carol",
   "metadata": {},
   "source": [
    "### Задача 2.\n",
    "В первом ящике находится 8 мячей, из которых 5 - белые. Во втором ящике - 12 мячей, из которых 5 белых. Из первого ящика вытаскивают случайным образом два мяча, из второго - 4. Какова вероятность того, что 3 мяча белые?"
   ]
  },
  {
   "cell_type": "markdown",
   "id": "studied-grace",
   "metadata": {},
   "source": [
    "Три варианта развития событий: \n",
    "1) 2 белых из первого ящика и 1 белый и 3 небелых из второго\n",
    "\n",
    "2) 1 белый+1небелый из первого ящика и 2 белых и 2 небелых из второго\n",
    "\n",
    "3) 0 белых+2 небелых из первого ящика и 3 белых и 1 небелый из второго"
   ]
  },
  {
   "cell_type": "code",
   "execution_count": 86,
   "id": "supposed-gallery",
   "metadata": {},
   "outputs": [],
   "source": [
    "from math import factorial"
   ]
  },
  {
   "cell_type": "code",
   "execution_count": 87,
   "id": "sustainable-swiss",
   "metadata": {},
   "outputs": [],
   "source": [
    "# функция расчета сочетаний\n",
    "def combinations(n, k):\n",
    "    return int(factorial(n)/(factorial(k)* factorial(n-k)))"
   ]
  },
  {
   "cell_type": "code",
   "execution_count": 88,
   "id": "shaped-session",
   "metadata": {},
   "outputs": [
    {
     "data": {
      "text/plain": [
       "0.3686868686868686"
      ]
     },
     "execution_count": 88,
     "metadata": {},
     "output_type": "execute_result"
    }
   ],
   "source": [
    "P = (combinations(5,2)/combinations(8,2) * combinations(5,1)*combinations(7,3)/combinations(12,4)) + \\\n",
    "    (combinations(3,1)*combinations(5,1)/combinations(8,2) * combinations(5,2) * combinations(7,2)/combinations(12,4)) +\\\n",
    "    (combinations(5,0)*combinations(3,2)/combinations(8,2) * combinations(5,3)*combinations(7,1)/combinations(12,4))\n",
    "P"
   ]
  },
  {
   "cell_type": "markdown",
   "id": "chief-spray",
   "metadata": {},
   "source": [
    "### Задача 3.\n",
    "На соревновании по биатлону один из трех спортсменов стреляет и попадает в мишень. Вероятность попадания для первого спортсмена равна 0.9, для второго — 0.8, для третьего — 0.6. Найти вероятность того, что выстрел произведен: a). первым спортсменом б). вторым спортсменом в). третьим спортсменом."
   ]
  },
  {
   "cell_type": "code",
   "execution_count": 89,
   "id": "meaningful-listing",
   "metadata": {},
   "outputs": [
    {
     "data": {
      "text/plain": [
       "0.7666666666666666"
      ]
     },
     "execution_count": 89,
     "metadata": {},
     "output_type": "execute_result"
    }
   ],
   "source": [
    "# Найдем полную вероятность попадания в мишень\n",
    "P = 1/3*0.9+1/3*0.8+1/3*0.6\n",
    "P"
   ]
  },
  {
   "cell_type": "code",
   "execution_count": 90,
   "id": "outer-lingerie",
   "metadata": {},
   "outputs": [
    {
     "name": "stdout",
     "output_type": "stream",
     "text": [
      "Вероятность того, что выстрел произведен первым спортсменом = 0.39\n"
     ]
    }
   ],
   "source": [
    "# a)\n",
    "P_1 = 1/3*0.9/P\n",
    "print(f'Вероятность того, что выстрел произведен первым спортсменом = {P_1:.2f}')"
   ]
  },
  {
   "cell_type": "code",
   "execution_count": 91,
   "id": "educational-remove",
   "metadata": {},
   "outputs": [
    {
     "name": "stdout",
     "output_type": "stream",
     "text": [
      "Вероятность того, что выстрел произведен первым спортсменом = 0.35\n"
     ]
    }
   ],
   "source": [
    "# б)\n",
    "P_2 = 1/3*0.8/P\n",
    "print(f'Вероятность того, что выстрел произведен первым спортсменом = {P_2:.2f}')"
   ]
  },
  {
   "cell_type": "code",
   "execution_count": 92,
   "id": "optimum-least",
   "metadata": {},
   "outputs": [
    {
     "name": "stdout",
     "output_type": "stream",
     "text": [
      "Вероятность того, что выстрел произведен первым спортсменом = 0.26\n"
     ]
    }
   ],
   "source": [
    "# в)\n",
    "P_3 = 1/3*0.6/P\n",
    "print(f'Вероятность того, что выстрел произведен первым спортсменом = {P_3:.2f}')"
   ]
  },
  {
   "cell_type": "markdown",
   "id": "motivated-scroll",
   "metadata": {},
   "source": [
    "### Задача 4.\n",
    "В университет на факультеты A и B поступило равное количество студентов, а на факультет C студентов поступило столько же, сколько на A и B вместе. Вероятность того, что студент факультета A сдаст первую сессию, равна 0.8. Для студента факультета B эта вероятность равна 0.7, а для студента факультета C - 0.9. Студент сдал первую сессию. Какова вероятность, что он учится: a). на факультете A б). на факультете B в). на факультете C?"
   ]
  },
  {
   "cell_type": "code",
   "execution_count": 93,
   "id": "specialized-denmark",
   "metadata": {},
   "outputs": [],
   "source": [
    "# на факультете А и В = х студентов\n",
    "# на факультете С = 2x студентов\n",
    "# всего студентов = 4x\n",
    "\n",
    "#Т.е. вероятность, что сдает сессию студент факультета А или В = 1/4, С = 1/2"
   ]
  },
  {
   "cell_type": "code",
   "execution_count": 94,
   "id": "postal-robertson",
   "metadata": {},
   "outputs": [
    {
     "data": {
      "text/plain": [
       "0.825"
      ]
     },
     "execution_count": 94,
     "metadata": {},
     "output_type": "execute_result"
    }
   ],
   "source": [
    "#  Найдем полную вероятность\n",
    "P = 1/4*0.8 + 1/4*0.7 + 1/2*0.9\n",
    "P"
   ]
  },
  {
   "cell_type": "code",
   "execution_count": 95,
   "id": "literary-contract",
   "metadata": {},
   "outputs": [
    {
     "name": "stdout",
     "output_type": "stream",
     "text": [
      "Вероятность того, что студент учится на факультете А = 0.24\n"
     ]
    }
   ],
   "source": [
    "# a)\n",
    "P_1 = 1/4*0.8/P\n",
    "print(f'Вероятность того, что студент учится на факультете А = {P_1:.2f}')"
   ]
  },
  {
   "cell_type": "code",
   "execution_count": 96,
   "id": "quiet-medication",
   "metadata": {},
   "outputs": [
    {
     "name": "stdout",
     "output_type": "stream",
     "text": [
      "Вероятность того, что студент учится на факультете В  = 0.21\n"
     ]
    }
   ],
   "source": [
    "# б)\n",
    "P_2 = 1/4*0.7/P\n",
    "print(f'Вероятность того, что студент учится на факультете В  = {P_2:.2f}')"
   ]
  },
  {
   "cell_type": "code",
   "execution_count": 97,
   "id": "mathematical-soldier",
   "metadata": {},
   "outputs": [
    {
     "name": "stdout",
     "output_type": "stream",
     "text": [
      "Вероятность того, что студент учится на факультете С = 0.55\n"
     ]
    }
   ],
   "source": [
    "# в)\n",
    "P_3 = 1/2*0.9/P\n",
    "print(f'Вероятность того, что студент учится на факультете С = {P_3:.2f}')"
   ]
  },
  {
   "cell_type": "markdown",
   "id": "outside-minneapolis",
   "metadata": {},
   "source": [
    "### Задача 5. \n",
    "Устройство состоит из трех деталей. Для первой детали вероятность выйти из строя в первый месяц равна 0.1, для второй - 0.2, для третьей - 0.25. Какова вероятность того, что в первый месяц выйдут из строя: а). все детали б). только две детали в). хотя бы одна деталь г). от одной до двух деталей?"
   ]
  },
  {
   "cell_type": "code",
   "execution_count": 98,
   "id": "helpful-universe",
   "metadata": {},
   "outputs": [
    {
     "name": "stdout",
     "output_type": "stream",
     "text": [
      "Вероятность того, что все детали выйдут из строя = 0.0050\n"
     ]
    }
   ],
   "source": [
    "# a)\n",
    "P_1 = 0.1*0.2*0.25\n",
    "print(f'Вероятность того, что все детали выйдут из строя = {P_1:.4f}')"
   ]
  },
  {
   "cell_type": "code",
   "execution_count": 99,
   "id": "applicable-grade",
   "metadata": {},
   "outputs": [
    {
     "name": "stdout",
     "output_type": "stream",
     "text": [
      "Вероятность того, что выйдут из строя только 2 детали = 0.0800\n"
     ]
    }
   ],
   "source": [
    "# б)\n",
    "# Есть 3 варианта - 110, 101, 011\n",
    "P_2 = 0.1*0.2*(1-0.25) + 0.1*(1-0.2)*0.25 + (1-0.1)*0.2*0.25\n",
    "print(f'Вероятность того, что выйдут из строя только 2 детали = {P_2:.4f}')\n"
   ]
  },
  {
   "cell_type": "code",
   "execution_count": 100,
   "id": "scenic-jesus",
   "metadata": {},
   "outputs": [
    {
     "name": "stdout",
     "output_type": "stream",
     "text": [
      "Вероятность того, что из строя выйдет хотя бы одна деталь = 0.46\n"
     ]
    }
   ],
   "source": [
    "# в)\n",
    "P_3 = 1 - ((1-0.1)*(1-0.2)*(1-0.25))\n",
    "print(f'Вероятность того, что из строя выйдет хотя бы одна деталь = {P_3:.f}')"
   ]
  },
  {
   "cell_type": "code",
   "execution_count": 101,
   "id": "changing-publication",
   "metadata": {},
   "outputs": [
    {
     "name": "stdout",
     "output_type": "stream",
     "text": [
      "Вероятность того, что выйдет из строя от одной до двух деталей = 0.4550\n"
     ]
    }
   ],
   "source": [
    "# г)\n",
    "# К пукнкту Б добавляем еще 3 варианта - 100, 010, 001\n",
    "\n",
    "P_4 = P_2 + 0.1*(1-0.2)*(1-0.25) + (1-0.1)*0.2*(1-0.25) + (1-0.1)*(1-0.2)*0.25\n",
    "print(f'Вероятность того, что выйдет из строя от одной до двух деталей = {P_4:.4f}')"
   ]
  },
  {
   "cell_type": "markdown",
   "id": "descending-cinema",
   "metadata": {},
   "source": []
  }
 ],
 "metadata": {
  "kernelspec": {
   "display_name": "Python 3",
   "language": "python",
   "name": "python3"
  },
  "language_info": {
   "codemirror_mode": {
    "name": "ipython",
    "version": 3
   },
   "file_extension": ".py",
   "mimetype": "text/x-python",
   "name": "python",
   "nbconvert_exporter": "python",
   "pygments_lexer": "ipython3",
   "version": "3.9.2"
  }
 },
 "nbformat": 4,
 "nbformat_minor": 5
}
