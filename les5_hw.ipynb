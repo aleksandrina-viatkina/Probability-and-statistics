{
 "cells": [
  {
   "cell_type": "markdown",
   "id": "jewish-murray",
   "metadata": {},
   "source": [
    "### Задание 1\n",
    "Известно, что генеральная совокупность распределена нормально \u000b",
    "со средним квадратическим отклонением, равным 16.\u000b",
    "Найти доверительный интервал для оценки математического ожидания с надежностью 0.95,\u000b",
    "если выборочная средняя M = 80, а объем выборки n = 256."
   ]
  },
  {
   "cell_type": "code",
   "execution_count": 10,
   "id": "varying-domain",
   "metadata": {},
   "outputs": [],
   "source": [
    "from math import sqrt\n",
    "\n",
    "# т. к. есть среднее квадратическое отклонение, используем Z критерий"
   ]
  },
  {
   "cell_type": "code",
   "execution_count": 2,
   "id": "center-parliament",
   "metadata": {},
   "outputs": [],
   "source": [
    "M = 80\n",
    "n = 256\n",
    "std = 16\n",
    "Z = 1.95 # - 1.95 для 0.025, 1.95 для 0.975"
   ]
  },
  {
   "cell_type": "code",
   "execution_count": 9,
   "id": "refined-variety",
   "metadata": {},
   "outputs": [
    {
     "data": {
      "text/plain": [
       "[78.05, 81.95]"
      ]
     },
     "execution_count": 9,
     "metadata": {},
     "output_type": "execute_result"
    }
   ],
   "source": [
    "interval = [M - Z*(std/sqrt(n)), M + Z*(std/sqrt(n))]\n",
    "interval"
   ]
  },
  {
   "cell_type": "markdown",
   "id": "pursuant-coffee",
   "metadata": {},
   "source": [
    "### Задание 2\n",
    "В результате 10 независимых измерений некоторой величины X, выполненных с одинаковой точностью,\u000b",
    "получены опытные данные:\u000b",
    "6.9, 6.1, 6.2, 6.8, 7.5, 6.3, 6.4, 6.9, 6.7, 6.1. \u000b",
    "Предполагая, что результаты измерений подчинены нормальному закону распределения вероятностей,\u000b",
    "оценить истинное значение величины X при помощи доверительного интервала, покрывающего это\u000b",
    "значение с доверительной вероятностью 0,95."
   ]
  },
  {
   "cell_type": "code",
   "execution_count": 26,
   "id": "plastic-henry",
   "metadata": {},
   "outputs": [],
   "source": [
    "import numpy as np"
   ]
  },
  {
   "cell_type": "code",
   "execution_count": 36,
   "id": "educated-border",
   "metadata": {},
   "outputs": [
    {
     "data": {
      "text/plain": [
       "6.589999999999999"
      ]
     },
     "execution_count": 36,
     "metadata": {},
     "output_type": "execute_result"
    }
   ],
   "source": [
    "a = [6.9, 6.1, 6.2, 6.8, 7.5, 6.3, 6.4, 6.9, 6.7, 6.1]\n",
    "M = sum(a)/len(a)\n",
    "M"
   ]
  },
  {
   "cell_type": "code",
   "execution_count": 37,
   "id": "czech-pacific",
   "metadata": {},
   "outputs": [
    {
     "data": {
      "text/plain": [
       "10"
      ]
     },
     "execution_count": 37,
     "metadata": {},
     "output_type": "execute_result"
    }
   ],
   "source": [
    "n = len(a)\n",
    "n"
   ]
  },
  {
   "cell_type": "code",
   "execution_count": 41,
   "id": "architectural-imaging",
   "metadata": {},
   "outputs": [
    {
     "data": {
      "text/plain": [
       "0.4508017549014448"
      ]
     },
     "execution_count": 41,
     "metadata": {},
     "output_type": "execute_result"
    }
   ],
   "source": [
    "std = sqrt(np.var(a, ddof=1))\n",
    "std"
   ]
  },
  {
   "cell_type": "code",
   "execution_count": 39,
   "id": "thermal-nutrition",
   "metadata": {},
   "outputs": [],
   "source": [
    "#Определим значение t критерия для 0.05/2\n",
    "#9 степеней свободны, alpha = 0.025\n",
    "t = 2.262"
   ]
  },
  {
   "cell_type": "code",
   "execution_count": 40,
   "id": "provincial-premiere",
   "metadata": {},
   "outputs": [
    {
     "data": {
      "text/plain": [
       "[6.267538255912425, 6.912461744087573]"
      ]
     },
     "execution_count": 40,
     "metadata": {},
     "output_type": "execute_result"
    }
   ],
   "source": [
    "interval = [M - t*(std/sqrt(n)), M + t*(std/sqrt(n))]\n",
    "interval"
   ]
  },
  {
   "cell_type": "markdown",
   "id": "responsible-subdivision",
   "metadata": {},
   "source": [
    "### Задачи на проверку гипотезы"
   ]
  },
  {
   "cell_type": "markdown",
   "id": "korean-dinner",
   "metadata": {},
   "source": [
    "### Задание 3\n",
    "Утверждается, что шарики для подшипников, изготовленные автоматическим станком, имеют средний диаметр 17 мм.\u000b",
    "Используя односторонний критерий с α=0,05, проверить эту гипотезу, если в выборке из n=100 шариков средний диаметр\u000b",
    "оказался равным 17.5 мм, а дисперсия известна и равна 4 кв.мм."
   ]
  },
  {
   "cell_type": "code",
   "execution_count": 57,
   "id": "strategic-message",
   "metadata": {},
   "outputs": [],
   "source": [
    "mu_0 = 17\n",
    "X_mean = 17.5\n",
    "var = 4\n",
    "std = sqrt(var)\n",
    "n = 100\n",
    "alpha = 0.05"
   ]
  },
  {
   "cell_type": "code",
   "execution_count": 54,
   "id": "organizational-husband",
   "metadata": {},
   "outputs": [
    {
     "data": {
      "text/plain": [
       "2.5"
      ]
     },
     "execution_count": 54,
     "metadata": {},
     "output_type": "execute_result"
    }
   ],
   "source": [
    "Z_n = (X_mean - mu_0) / (std/ sqrt(n))\n",
    "Z_n"
   ]
  },
  {
   "cell_type": "code",
   "execution_count": 60,
   "id": "excessive-section",
   "metadata": {},
   "outputs": [],
   "source": [
    "#находим Z по таблице для 0.05 по модулю\n",
    "Z_table = 1.64"
   ]
  },
  {
   "cell_type": "code",
   "execution_count": 61,
   "id": "designed-standard",
   "metadata": {},
   "outputs": [
    {
     "name": "stdout",
     "output_type": "stream",
     "text": [
      "Принимаем альтернативную гипотезу\n"
     ]
    }
   ],
   "source": [
    "if Z_n < Z_table:\n",
    "    print('Принимаем нулевую гипотезу')\n",
    "else:\n",
    "    print('Принимаем альтернативную гипотезу')"
   ]
  },
  {
   "cell_type": "markdown",
   "id": "second-logan",
   "metadata": {},
   "source": [
    "### Задание 4\n",
    " Продавец утверждает, что средний вес пачки печенья составляет 200 г. Из партии извлечена выборка из 10 пачек. \n",
    "Вес каждой пачки составляет:\n",
    "202, 203, 199, 197, 195, 201, 200, 204, 194, 190. Известно, \n",
    "что их веса распределены нормально. \n",
    "Верно ли утверждение продавца, если учитывать, что доверительная вероятность равна 99%?\n"
   ]
  },
  {
   "cell_type": "code",
   "execution_count": 84,
   "id": "intensive-aberdeen",
   "metadata": {},
   "outputs": [],
   "source": [
    "#Нулевая гипотеза - утверждение продавца верно\n",
    "mu_0 = 200\n",
    "alpha = 0.01"
   ]
  },
  {
   "cell_type": "code",
   "execution_count": 85,
   "id": "sound-easter",
   "metadata": {},
   "outputs": [
    {
     "data": {
      "text/plain": [
       "198.5"
      ]
     },
     "execution_count": 85,
     "metadata": {},
     "output_type": "execute_result"
    }
   ],
   "source": [
    "a = [202, 203, 199, 197, 195, 201, 200, 204, 194, 190]\n",
    "n = len(a)\n",
    "X_mean = sum(a)/len(a)\n",
    "X_mean"
   ]
  },
  {
   "cell_type": "code",
   "execution_count": 86,
   "id": "subsequent-upgrade",
   "metadata": {},
   "outputs": [
    {
     "data": {
      "text/plain": [
       "4.453463071962462"
      ]
     },
     "execution_count": 86,
     "metadata": {},
     "output_type": "execute_result"
    }
   ],
   "source": [
    "std = sqrt(np.var(a, ddof=1))\n",
    "std"
   ]
  },
  {
   "cell_type": "code",
   "execution_count": 87,
   "id": "verified-burns",
   "metadata": {},
   "outputs": [
    {
     "data": {
      "text/plain": [
       "-1.0651074037450896"
      ]
     },
     "execution_count": 87,
     "metadata": {},
     "output_type": "execute_result"
    }
   ],
   "source": [
    "t_n = (X_mean - mu_0)/(std/sqrt(n))\n",
    "t_n"
   ]
  },
  {
   "cell_type": "code",
   "execution_count": 88,
   "id": "lyric-enforcement",
   "metadata": {},
   "outputs": [
    {
     "data": {
      "text/plain": [
       "-3.24983554401537"
      ]
     },
     "execution_count": 88,
     "metadata": {},
     "output_type": "execute_result"
    }
   ],
   "source": [
    "#Найдем t табличное при 9 степенях свободны и alpha = 0.01\n",
    "from scipy.stats import t\n",
    "t_table = t.ppf(alpha/2, n-1)\n",
    "t_table"
   ]
  },
  {
   "cell_type": "code",
   "execution_count": 90,
   "id": "congressional-circle",
   "metadata": {},
   "outputs": [
    {
     "name": "stdout",
     "output_type": "stream",
     "text": [
      "Принимаем нулевую гипотезу\n"
     ]
    }
   ],
   "source": [
    "if abs(t_table) > t_n > t_table:\n",
    "    print('Принимаем нулевую гипотезу')\n",
    "else:\n",
    "    print('Принимаем альтернативную гипотезу')"
   ]
  }
 ],
 "metadata": {
  "kernelspec": {
   "display_name": "Python 3",
   "language": "python",
   "name": "python3"
  },
  "language_info": {
   "codemirror_mode": {
    "name": "ipython",
    "version": 3
   },
   "file_extension": ".py",
   "mimetype": "text/x-python",
   "name": "python",
   "nbconvert_exporter": "python",
   "pygments_lexer": "ipython3",
   "version": "3.9.2"
  }
 },
 "nbformat": 4,
 "nbformat_minor": 5
}
