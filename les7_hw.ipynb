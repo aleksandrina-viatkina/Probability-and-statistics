{
 "cells": [
  {
   "cell_type": "markdown",
   "id": "breathing-edmonton",
   "metadata": {},
   "source": [
    "### Задание 1\n",
    "Даны значения величины заработной платы заемщиков банка (zp) и значения их поведенческого кредитного скоринга (ks): zp = [35, 45, 190, 200, 40, 70, 54, 150, 120, 110], ks = [401, 574, 874, 919, 459, 739, 653, 902, 746, 832]. Используя математические операции, посчитать коэффициенты линейной регрессии, приняв за X заработную плату (то есть, zp - признак), а за y - значения скорингового балла (то есть, ks - целевая переменная). Произвести расчет как с использованием intercept, так и без."
   ]
  },
  {
   "cell_type": "code",
   "execution_count": 287,
   "id": "checked-valley",
   "metadata": {},
   "outputs": [],
   "source": [
    "import numpy as np"
   ]
  },
  {
   "cell_type": "code",
   "execution_count": 288,
   "id": "opened-overhead",
   "metadata": {},
   "outputs": [],
   "source": [
    "zp = np.array([35, 45, 190, 200, 40, 70, 54, 150, 120, 110])  #x \n",
    "ks = np.array([401, 574, 874, 919, 459, 739, 653, 902, 746, 832]) #таргет\n",
    "n = len(zp)\n",
    "\n",
    "x = zp\n",
    "y = ks"
   ]
  },
  {
   "cell_type": "markdown",
   "id": "cathedral-proxy",
   "metadata": {},
   "source": [
    "Рассчитаем коэффициенты линейной регрессии **с использованием intercept**"
   ]
  },
  {
   "cell_type": "code",
   "execution_count": 289,
   "id": "automotive-reader",
   "metadata": {},
   "outputs": [
    {
     "data": {
      "text/plain": [
       "2.620538882402765"
      ]
     },
     "execution_count": 289,
     "metadata": {},
     "output_type": "execute_result"
    }
   ],
   "source": [
    "b = ((x * y).mean() - x.mean() * y.mean()) / ((x ** 2).mean() - (x.mean() ** 2))\n",
    "b"
   ]
  },
  {
   "cell_type": "code",
   "execution_count": 290,
   "id": "arctic-chorus",
   "metadata": {},
   "outputs": [
    {
     "data": {
      "text/plain": [
       "444.1773573243596"
      ]
     },
     "execution_count": 290,
     "metadata": {},
     "output_type": "execute_result"
    }
   ],
   "source": [
    "a = y.mean() - b * x.mean()\n",
    "a"
   ]
  },
  {
   "cell_type": "code",
   "execution_count": 291,
   "id": "laughing-dictionary",
   "metadata": {},
   "outputs": [],
   "source": [
    "import matplotlib.pyplot as plt"
   ]
  },
  {
   "cell_type": "code",
   "execution_count": 292,
   "id": "specified-impact",
   "metadata": {},
   "outputs": [
    {
     "data": {
      "text/plain": [
       "[<matplotlib.lines.Line2D at 0x7fa034b366d0>]"
      ]
     },
     "execution_count": 292,
     "metadata": {},
     "output_type": "execute_result"
    },
    {
     "data": {
      "image/png": "[encoded data removed]",
      "text/plain": [
       "<Figure size 432x288 with 1 Axes>"
      ]
     },
     "metadata": {
      "needs_background": "light"
     },
     "output_type": "display_data"
    }
   ],
   "source": [
    "plt.scatter(x, y)\n",
    "plt.plot(x, a+b*x)"
   ]
  },
  {
   "cell_type": "code",
   "execution_count": 293,
   "id": "otherwise-hands",
   "metadata": {},
   "outputs": [],
   "source": [
    "# Проверим полученные коэффициенты матричным методом "
   ]
  },
  {
   "cell_type": "code",
   "execution_count": 294,
   "id": "based-reggae",
   "metadata": {},
   "outputs": [],
   "source": [
    "x = x.reshape((len(x)), 1)\n",
    "y = y.reshape((len(x)), 1)"
   ]
  },
  {
   "cell_type": "code",
   "execution_count": 295,
   "id": "bacterial-calculator",
   "metadata": {},
   "outputs": [
    {
     "data": {
      "text/plain": [
       "array([[  1.,  35.],\n",
       "       [  1.,  45.],\n",
       "       [  1., 190.],\n",
       "       [  1., 200.],\n",
       "       [  1.,  40.],\n",
       "       [  1.,  70.],\n",
       "       [  1.,  54.],\n",
       "       [  1., 150.],\n",
       "       [  1., 120.],\n",
       "       [  1., 110.]])"
      ]
     },
     "execution_count": 295,
     "metadata": {},
     "output_type": "execute_result"
    }
   ],
   "source": [
    "x_ = np.hstack([np.ones((len(x), 1)), x])\n",
    "x_ "
   ]
  },
  {
   "cell_type": "code",
   "execution_count": 296,
   "id": "defensive-antenna",
   "metadata": {},
   "outputs": [
    {
     "data": {
      "text/plain": [
       "array([[401],\n",
       "       [574],\n",
       "       [874],\n",
       "       [919],\n",
       "       [459],\n",
       "       [739],\n",
       "       [653],\n",
       "       [902],\n",
       "       [746],\n",
       "       [832]])"
      ]
     },
     "execution_count": 296,
     "metadata": {},
     "output_type": "execute_result"
    }
   ],
   "source": [
    "y"
   ]
  },
  {
   "cell_type": "code",
   "execution_count": 297,
   "id": "available-kennedy",
   "metadata": {},
   "outputs": [
    {
     "data": {
      "text/plain": [
       "array([[444.17735732],\n",
       "       [  2.62053888]])"
      ]
     },
     "execution_count": 297,
     "metadata": {},
     "output_type": "execute_result"
    }
   ],
   "source": [
    "B = np.dot(np.linalg.inv(np.dot(x_.T, x_)), x_.T@y)\n",
    "B"
   ]
  },
  {
   "cell_type": "markdown",
   "id": "essential-vertex",
   "metadata": {},
   "source": [
    "Получившиеся значения совпадают, все верно\n",
    "Получается линейная модель вида: y = 444.177 + 1.62*x"
   ]
  },
  {
   "cell_type": "markdown",
   "id": "accessible-heath",
   "metadata": {},
   "source": [
    "Рассчитаем коэффициент линейной регресси **без интерсепта матричным методом**\n",
    "Градиентным спуском рассчитаем в задаче 2 и сравним результат"
   ]
  },
  {
   "cell_type": "code",
   "execution_count": 298,
   "id": "soviet-boring",
   "metadata": {},
   "outputs": [
    {
     "data": {
      "text/plain": [
       "array([[5.88982042]])"
      ]
     },
     "execution_count": 298,
     "metadata": {},
     "output_type": "execute_result"
    }
   ],
   "source": [
    "#Матричный метод - нам не нужен столбец с единицами\n",
    "B1 = np.dot(np.linalg.inv(np.dot(x.T, x)), x.T@y)\n",
    "B1"
   ]
  },
  {
   "cell_type": "markdown",
   "id": "geographic-speaking",
   "metadata": {},
   "source": [
    "Получаем уравнение линейной регрессии вида: y =  5.89*x"
   ]
  },
  {
   "cell_type": "markdown",
   "id": "nominated-pearl",
   "metadata": {},
   "source": [
    "### Задание 2\n",
    "Посчитать коэффициент линейной регрессии при заработной плате (zp), используя градиентный спуск (без intercept)."
   ]
  },
  {
   "cell_type": "code",
   "execution_count": 299,
   "id": "civil-fancy",
   "metadata": {},
   "outputs": [],
   "source": [
    "zp = np.array([35, 45, 190, 200, 40, 70, 54, 150, 120, 110])  #x \n",
    "ks = np.array([401, 574, 874, 919, 459, 739, 653, 902, 746, 832]) #таргет\n",
    "n = len(zp)\n",
    "\n",
    "x = zp\n",
    "y = ks\n",
    "\n",
    "alpha = 1e-06"
   ]
  },
  {
   "cell_type": "code",
   "execution_count": 300,
   "id": "abandoned-consultation",
   "metadata": {},
   "outputs": [],
   "source": [
    "def mse_(B, x=x, y=y, n=n):\n",
    "    return np.sum((y - B*x)**2)/n"
   ]
  },
  {
   "cell_type": "code",
   "execution_count": 301,
   "id": "organizational-ozone",
   "metadata": {},
   "outputs": [],
   "source": [
    "#Найдем производную mse по B\n",
    "mse_p = (2/n)*np.sum((y - B*x)*(-x))"
   ]
  },
  {
   "cell_type": "code",
   "execution_count": 302,
   "id": "buried-coast",
   "metadata": {},
   "outputs": [
    {
     "name": "stdout",
     "output_type": "stream",
     "text": [
      "iteration: 0, B : 2.107177, mse: 253637.8412260619\n",
      "iteration: 100, B : 5.6584112538881115, mse: 57254.59813165116\n",
      "iteration: 200, B : 5.8756636000800775, mse: 56519.61946064067\n",
      "iteration: 300, B : 5.888954354378881, mse: 56516.86874913225\n",
      "iteration: 400, B : 5.889767437196752, mse: 56516.858454392954\n",
      "iteration: 500, B : 5.889817178818173, mse: 56516.85841586415\n",
      "iteration: 600, B : 5.889820221840172, mse: 56516.85841571995\n",
      "iteration: 700, B : 5.889820408001831, mse: 56516.85841571943\n",
      "iteration: 800, B : 5.889820419390563, mse: 56516.85841571941\n",
      "iteration: 900, B : 5.889820420087288, mse: 56516.8584157194\n"
     ]
    }
   ],
   "source": [
    "B = 2 # потестировала, какой бы не выбрали В, рано или поздно приходим к тому же самому минимуму\n",
    "for i in range(1000):\n",
    "    B -= alpha * (2/n)*np.sum((y - B*x)*(-x))\n",
    "    if i % 100 == 0:\n",
    "        print(f'iteration: {i}, B : {B}, mse: {mse_(B) }')"
   ]
  },
  {
   "cell_type": "markdown",
   "id": "restricted-unknown",
   "metadata": {},
   "source": [
    "Таким образом, коэффициент, найденным матричным методом и методом градиентного спуска получился одинаковый"
   ]
  },
  {
   "cell_type": "markdown",
   "id": "stainless-sustainability",
   "metadata": {},
   "source": [
    "### Задание 3*\n",
    " Произвести вычисления как в пункте 2, но с вычислением intercept. Учесть, что изменение коэффициентов должно производиться\n",
    "на каждом шаге одновременно (то есть изменение одного коэффициента не должно влиять на изменение другого во время одной итерации). "
   ]
  },
  {
   "cell_type": "code",
   "execution_count": 303,
   "id": "laughing-slovakia",
   "metadata": {},
   "outputs": [],
   "source": [
    "def mse_(BO, B1, x=x, y=y, n=n):\n",
    "  return np.sum((B0 + B1 * x - y)**2)/n"
   ]
  },
  {
   "cell_type": "code",
   "execution_count": 304,
   "id": "unexpected-grocery",
   "metadata": {},
   "outputs": [],
   "source": [
    "#Найдем производную mse по B0 и В1\n",
    "mse_p_B0 = (2/n)* np.sum(B0 + B*x - y)\n",
    "mse_p_B1 = (2/n)* np.sum((B0 + B*x - y)*x)"
   ]
  },
  {
   "cell_type": "code",
   "execution_count": 305,
   "id": "floppy-hopkins",
   "metadata": {},
   "outputs": [
    {
     "name": "stdout",
     "output_type": "stream",
     "text": [
      "B0 : 0.10608400000000001, B1 : 1.1347086861648 mse: 367894.5730068733\n",
      "B0 : 99.71231591813189, B1 : 5.156134147612877 mse: 36569.32027093387\n",
      "B0 : 176.87132698725011, B1 : 4.5881693337192475 mse: 24595.41012928853\n",
      "B0 : 236.74697901110497, B1 : 4.147426728451465 mse: 17384.94633177018\n",
      "B0 : 283.21068630344666, B1 : 3.805408984840631 mse: 13042.94045730623\n",
      "B0 : 319.26667938871987, B1 : 3.5400020658213753 mse: 10428.26606973529\n",
      "B0 : 347.246251255119, B1 : 3.3340454042762 mse: 8853.758261437091\n",
      "B0 : 368.9584931000494, B1 : 3.1742223424225062 mse: 7905.619231133636\n",
      "B0 : 385.80726577549353, B1 : 3.050199109045752 mse: 7334.667714699225\n",
      "B0 : 398.8819700227979, B1 : 2.953956662938162 mse: 6990.851434913784\n",
      "B0 : 409.0279844802069, B1 : 2.879272201159585 mse: 6783.8117286636725\n",
      "B0 : 416.90132581342715, B1 : 2.8213168077054407 mse: 6659.136306106967\n",
      "B0 : 423.01106516080006, B1 : 2.776343227519701 mse: 6584.059108253299\n",
      "B0 : 427.7522434373346, B1 : 2.741443578079452 mse: 6538.849029779419\n",
      "B0 : 431.43141372134255, B1 : 2.7143613327695983 mse: 6511.6243696422825\n",
      "B0 : 434.2864622323229, B1 : 2.693345419349666 mse: 6495.2301906317225\n",
      "B0 : 436.50198947647317, B1 : 2.677036999873257 mse: 6485.357923941259\n",
      "B0 : 438.22124606725936, B1 : 2.6643816115253336 mse: 6479.413030357753\n",
      "B0 : 439.5553949624207, B1 : 2.6545609876157314 mse: 6475.833127096674\n",
      "B0 : 440.59069899092657, B1 : 2.6469401504416146 mse: 6473.677376589318\n",
      "B0 : 441.39409839807007, B1 : 2.64102635517081 mse: 6472.379224122362\n",
      "B0 : 442.0175390393159, B1 : 2.6364372301564707 mse: 6471.597501088191\n",
      "B0 : 442.50133107314366, B1 : 2.6328760537151354 mse: 6471.126762159054\n",
      "B0 : 442.87675531805814, B1 : 2.630112568822838 mse: 6470.843292017186\n",
      "B0 : 443.1680857944087, B1 : 2.627968095254692 mse: 6470.672591621793\n",
      "B0 : 443.39415922360763, B1 : 2.626303976555371 mse: 6470.569799049724\n",
      "B0 : 443.5695929648024, B1 : 2.62501261484936 mse: 6470.507899293437\n",
      "B0 : 443.70573013784866, B1 : 2.624010513823415 mse: 6470.470624422773\n",
      "B0 : 443.8113730418628, B1 : 2.623232880057949 mse: 6470.448178195746\n",
      "B0 : 443.8933522905787, B1 : 2.62262943364132 mse: 6470.43466149941\n",
      "B0 : 443.95696846322477, B1 : 2.622161157193021 mse: 6470.426521998741\n",
      "B0 : 444.0063348270911, B1 : 2.621797773094686 mse: 6470.421620544309\n",
      "B0 : 444.0446432914412, B1 : 2.6215157858125306 mse: 6470.418668980512\n",
      "B0 : 444.07437078857976, B1 : 2.621296962733463 mse: 6470.416891604229\n",
      "B0 : 444.09743942631724, B1 : 2.621127155288323 mse: 6470.415821301609\n"
     ]
    }
   ],
   "source": [
    "B0 = 0.1\n",
    "B1 = 1\n",
    "alpha_1 = 5e-06 # при тестировании поняла, что В0 изменяется сильнее, увеличим для него скорость обучения\n",
    "alpha_2 = 1e-06\n",
    "for i in range(3500000):\n",
    "    B0 -= alpha_1 * (2/n)* np.sum(B0 + B1*x-y)\n",
    "    B1 -= alpha_2 * (2/n)*np.sum((B0 + B1*x - y)*x)\n",
    "    if i % 100000 == 0:\n",
    "        print(f'B0 : {B0}, B1 : {B1} mse: {mse_(B0, B1)}')\n",
    "        "
   ]
  }
 ],
 "metadata": {
  "kernelspec": {
   "display_name": "Python 3",
   "language": "python",
   "name": "python3"
  },
  "language_info": {
   "codemirror_mode": {
    "name": "ipython",
    "version": 3
   },
   "file_extension": ".py",
   "mimetype": "text/x-python",
   "name": "python",
   "nbconvert_exporter": "python",
   "pygments_lexer": "ipython3",
   "version": "3.9.2"
  }
 },
 "nbformat": 4,
 "nbformat_minor": 5
}
