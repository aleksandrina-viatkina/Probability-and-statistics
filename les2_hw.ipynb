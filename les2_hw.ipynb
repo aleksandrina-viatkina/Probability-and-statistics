{
 "cells": [
  {
   "cell_type": "markdown",
   "id": "independent-ideal",
   "metadata": {},
   "source": [
    "#### Домашнее задание к вебинару 2"
   ]
  },
  {
   "cell_type": "code",
   "execution_count": 141,
   "id": "southwest-report",
   "metadata": {},
   "outputs": [],
   "source": [
    "#Определим функции для решения задач\n",
    "\n",
    "from math import factorial, exp\n",
    "\n",
    "# функция расчета сочетаний\n",
    "def combinations(n, k):\n",
    "    return int(factorial(n)/(factorial(k)* factorial(n-k)))\n",
    "\n",
    "# функция - формула Бернулли\n",
    "def bernoulli(n, k, p):\n",
    "    return combinations(n, k)*(p**k)*(1-p)**(n-k)\n",
    " \n",
    "# функция - формула Пуассона\n",
    "def poisson(l, m):\n",
    "    return (l**m/factorial(m) * exp(-l))"
   ]
  },
  {
   "cell_type": "markdown",
   "id": "handy-account",
   "metadata": {},
   "source": [
    "**Задача 1.** Вероятность того, что стрелок попадет в мишень, выстрелив один раз, равна 0.8. Стрелок выстрелил 100 раз. Найдите вероятность того, что стрелок попадет в цель ровно 85 раз."
   ]
  },
  {
   "cell_type": "code",
   "execution_count": 142,
   "id": "strategic-commodity",
   "metadata": {},
   "outputs": [
    {
     "name": "stdout",
     "output_type": "stream",
     "text": [
      "Вероятность того, что стрелок попадет в цель 85 раз из 100 равна 0.048\n"
     ]
    }
   ],
   "source": [
    "#Распределение Бернулли\n",
    "\n",
    "print(f'Вероятность того, что стрелок попадет в цель 85 раз из 100 равна {bernoulli(100, 85, 0.8):.3f}')"
   ]
  },
  {
   "cell_type": "markdown",
   "id": "under-flavor",
   "metadata": {},
   "source": [
    "**Задача 2.** Вероятность того, что лампочка перегорит в течение первого дня эксплуатации, равна 0.0004. В жилом комплексе после ремонта в один день включили 5000 новых лампочек. Какова вероятность, что перегорят ровно две?"
   ]
  },
  {
   "cell_type": "code",
   "execution_count": 143,
   "id": "differential-receiver",
   "metadata": {},
   "outputs": [
    {
     "name": "stdout",
     "output_type": "stream",
     "text": [
      "Вероятность того, что в первый день перегорит одна из 5000 новых лампочек = 0.135\n"
     ]
    }
   ],
   "source": [
    "# 1) Какова вероятность, что ни одна из них не перегорит в первый день?\n",
    "# Распределение Пуассона\n",
    "\n",
    "l = 0.0004 * 5000 # < - вероятность того, что перегорит лампочка на 10000 лампочек\n",
    "\n",
    "print(f'Вероятность того, что в первый день перегорит одна из 5000 новых лампочек = {poisson(l, 0):.3f}')"
   ]
  },
  {
   "cell_type": "code",
   "execution_count": 144,
   "id": "flying-contemporary",
   "metadata": {},
   "outputs": [
    {
     "name": "stdout",
     "output_type": "stream",
     "text": [
      "Вероятность того, что в первый день перегорят 2 из 5000 новых лампочек = 0.271\n"
     ]
    }
   ],
   "source": [
    "# 2) Какова вероятность, что перегорят ровно две?\n",
    "print(f'Вероятность того, что в первый день перегорят 2 из 5000 новых лампочек = {poisson(l, 2):.3f}')"
   ]
  },
  {
   "cell_type": "markdown",
   "id": "plain-crazy",
   "metadata": {},
   "source": [
    "**Задача 3.** Монету подбросили 144 раза. Какова вероятность, что орел выпадет ровно 70 раз?"
   ]
  },
  {
   "cell_type": "code",
   "execution_count": 145,
   "id": "consolidated-denial",
   "metadata": {},
   "outputs": [
    {
     "name": "stdout",
     "output_type": "stream",
     "text": [
      "Вероятность того, что орел выпадет 70 раз = 0.0628\n"
     ]
    }
   ],
   "source": [
    "#Распределение Бернулли\n",
    "bernoulli(144, 70, 0.5)\n",
    "print(f'Вероятность того, что орел выпадет 70 раз = {bernoulli(144, 70, 0.5):.4f}')"
   ]
  },
  {
   "cell_type": "markdown",
   "id": "identical-equation",
   "metadata": {},
   "source": [
    "**Задача 4.** В первом ящике находится 10 мячей, из которых 7 - белые. Во втором ящике - 11 мячей, из которых 9 белых. Из каждого ящика вытаскивают случайным образом по два мяча. "
   ]
  },
  {
   "cell_type": "code",
   "execution_count": 146,
   "id": "spare-singapore",
   "metadata": {},
   "outputs": [
    {
     "data": {
      "text/plain": [
       "0.3054545454545454"
      ]
     },
     "execution_count": 146,
     "metadata": {},
     "output_type": "execute_result"
    }
   ],
   "source": [
    "# 1) Какова вероятность того, что все мячи белые? \n",
    "P1 = 7/10 * 6/9 * 9/11 * 8/10\n",
    "P1"
   ]
  },
  {
   "cell_type": "code",
   "execution_count": 147,
   "id": "typical-formation",
   "metadata": {},
   "outputs": [
    {
     "data": {
      "text/plain": [
       "0.20484848484848484"
      ]
     },
     "execution_count": 147,
     "metadata": {},
     "output_type": "execute_result"
    }
   ],
   "source": [
    "# 2) Какова вероятность того, что ровно два мяча белые? \n",
    "\n",
    "# есть 6 возможных вариантов = (бб)(нн)+(бн)(бн)+(бн)(нб)+(нб)(нч)+(нб)(нб)+(нн)(бб)\" , где н = не белый\n",
    "\n",
    "P2 = (7/10)*(6/9)*(2/11)*(1/10) + (7/10)*(3/9)*(9/11)*(2/10) + (7/10)*(3/9)*(2/11)*(9/10) + \\\n",
    "(3/10)*(7/9)*(9/11)*(2/10) + (3/10)*(7/9)*(2/11)*(9/10) + (3/10)*(2/9)*(9/11)*(8/10)\n",
    "\n",
    "P2"
   ]
  },
  {
   "cell_type": "code",
   "execution_count": 148,
   "id": "interior-appendix",
   "metadata": {},
   "outputs": [
    {
     "data": {
      "text/plain": [
       "0.9987878787878788"
      ]
     },
     "execution_count": 148,
     "metadata": {},
     "output_type": "execute_result"
    }
   ],
   "source": [
    "# 3) Какова вероятность того, что хотя бы один мяч белый?\n",
    "#Вычтем из 1 вероятность вытащить исключительно небелые мячи\n",
    "\n",
    "P3 = 1 - (3/10)*(2/9)*(2/11)*(1/10)\n",
    "P3"
   ]
  },
  {
   "cell_type": "code",
   "execution_count": null,
   "id": "detected-arena",
   "metadata": {},
   "outputs": [],
   "source": []
  }
 ],
 "metadata": {
  "kernelspec": {
   "display_name": "Python 3",
   "language": "python",
   "name": "python3"
  },
  "language_info": {
   "codemirror_mode": {
    "name": "ipython",
    "version": 3
   },
   "file_extension": ".py",
   "mimetype": "text/x-python",
   "name": "python",
   "nbconvert_exporter": "python",
   "pygments_lexer": "ipython3",
   "version": "3.9.2"
  }
 },
 "nbformat": 4,
 "nbformat_minor": 5
}
