{
 "cells": [
  {
   "cell_type": "markdown",
   "metadata": {},
   "source": [
    "# Курсовой проект \n",
    "### Дано: датасет Black Friday\n",
    "\n",
    "Датасет взят с kaggle. Задача состоит в том, чтобы предсказать сумму покупок клиентов на распродаже Черная пятница."
   ]
  },
  {
   "cell_type": "markdown",
   "metadata": {},
   "source": [
    "**Описание данных**  \n",
    "**User_ID** - идентификационный номер покупателя  \n",
    "**Product_ID** - идентификационный номер товара    \n",
    "**Age** - возраст покупателя  \n",
    "**Occupation** - род деятельности покупателя  \n",
    "**City_Category** - город проживания  \n",
    "**Stay_In_Current_City_Years** - как долго покупатель живет в этом городе  \n",
    "**Marital_Status** - семейное положение покупателя  \n",
    "**Product_Category_1** - категория товара 1  \n",
    "**Product_Category_2** - категория товара 2  \n",
    "**Product_Category_3** - категория товара 3  \n",
    "**Purchase** - сумма покупок  - **целевая переменная**\n",
    "\n",
    "\n",
    "**Тема** - дисперсионный анализ c EDA\n",
    "\n",
    "**0 гипотеза** - Признак не влияет на целевую переменную  \n",
    "**Альтернативная гипотеза** - Средние арифметические по категориям признака имеют статистически существенные различия и признак оказывает влияние на таргет\n",
    "\n",
    "Примем уровень значимости alpha на уровне 5%"
   ]
  },
  {
   "cell_type": "markdown",
   "metadata": {},
   "source": [
    "### Загрузка библиотек"
   ]
  },
  {
   "cell_type": "code",
   "execution_count": 52,
   "metadata": {},
   "outputs": [],
   "source": [
    "import pandas as pd\n",
    "import numpy as np\n",
    "import seaborn as sns\n",
    "import matplotlib.pyplot as plt\n",
    "%matplotlib inline\n",
    "\n",
    "from scipy import stats"
   ]
  },
  {
   "cell_type": "code",
   "execution_count": 53,
   "metadata": {},
   "outputs": [],
   "source": [
    "import warnings\n",
    "warnings.filterwarnings('ignore')"
   ]
  },
  {
   "cell_type": "markdown",
   "metadata": {},
   "source": [
    "#### Пути к директориям"
   ]
  },
  {
   "cell_type": "code",
   "execution_count": 54,
   "metadata": {},
   "outputs": [],
   "source": [
    "TRAIN_DATASET_PATH = './train.csv'"
   ]
  },
  {
   "cell_type": "markdown",
   "metadata": {},
   "source": [
    "### Загрузка данных"
   ]
  },
  {
   "cell_type": "code",
   "execution_count": 55,
   "metadata": {
    "scrolled": true
   },
   "outputs": [
    {
     "name": "stdout",
     "output_type": "stream",
     "text": [
      "Data is loaded!\n"
     ]
    }
   ],
   "source": [
    "df = pd.read_csv(TRAIN_DATASET_PATH)\n",
    "\n",
    "print('Data is loaded!')"
   ]
  },
  {
   "cell_type": "code",
   "execution_count": 56,
   "metadata": {},
   "outputs": [
    {
     "name": "stdout",
     "output_type": "stream",
     "text": [
      "Train: 80000 строк и 12 признаков\n"
     ]
    }
   ],
   "source": [
    "print(f'Train: {df.shape[0]} строк и {df.shape[1]} признаков')"
   ]
  },
  {
   "cell_type": "code",
   "execution_count": 57,
   "metadata": {},
   "outputs": [
    {
     "data": {
      "text/plain": [
       "Index(['User_ID', 'Product_ID', 'Gender', 'Age', 'Occupation', 'City_Category',\n",
       "       'Stay_In_Current_City_Years', 'Marital_Status', 'Product_Category_1',\n",
       "       'Product_Category_2', 'Product_Category_3', 'Purchase'],\n",
       "      dtype='object')"
      ]
     },
     "execution_count": 57,
     "metadata": {},
     "output_type": "execute_result"
    }
   ],
   "source": [
    "df.columns"
   ]
  },
  {
   "cell_type": "code",
   "execution_count": 58,
   "metadata": {},
   "outputs": [
    {
     "data": {
      "text/html": [
       "<div>\n",
       "<style scoped>\n",
       "    .dataframe tbody tr th:only-of-type {\n",
       "        vertical-align: middle;\n",
       "    }\n",
       "\n",
       "    .dataframe tbody tr th {\n",
       "        vertical-align: top;\n",
       "    }\n",
       "\n",
       "    .dataframe thead th {\n",
       "        text-align: right;\n",
       "    }\n",
       "</style>\n",
       "<table border=\"1\" class=\"dataframe\">\n",
       "  <thead>\n",
       "    <tr style=\"text-align: right;\">\n",
       "      <th></th>\n",
       "      <th>User_ID</th>\n",
       "      <th>Product_ID</th>\n",
       "      <th>Gender</th>\n",
       "      <th>Age</th>\n",
       "      <th>Occupation</th>\n",
       "      <th>City_Category</th>\n",
       "      <th>Stay_In_Current_City_Years</th>\n",
       "      <th>Marital_Status</th>\n",
       "      <th>Product_Category_1</th>\n",
       "      <th>Product_Category_2</th>\n",
       "      <th>Product_Category_3</th>\n",
       "      <th>Purchase</th>\n",
       "    </tr>\n",
       "  </thead>\n",
       "  <tbody>\n",
       "    <tr>\n",
       "      <th>0</th>\n",
       "      <td>1004085</td>\n",
       "      <td>P00075742</td>\n",
       "      <td>F</td>\n",
       "      <td>26-35</td>\n",
       "      <td>6</td>\n",
       "      <td>A</td>\n",
       "      <td>1</td>\n",
       "      <td>0</td>\n",
       "      <td>8</td>\n",
       "      <td>14.0</td>\n",
       "      <td>NaN</td>\n",
       "      <td>7803</td>\n",
       "    </tr>\n",
       "    <tr>\n",
       "      <th>1</th>\n",
       "      <td>1005491</td>\n",
       "      <td>P00234842</td>\n",
       "      <td>M</td>\n",
       "      <td>18-25</td>\n",
       "      <td>7</td>\n",
       "      <td>A</td>\n",
       "      <td>1</td>\n",
       "      <td>0</td>\n",
       "      <td>5</td>\n",
       "      <td>6.0</td>\n",
       "      <td>16.0</td>\n",
       "      <td>6903</td>\n",
       "    </tr>\n",
       "    <tr>\n",
       "      <th>2</th>\n",
       "      <td>1003499</td>\n",
       "      <td>P00220142</td>\n",
       "      <td>M</td>\n",
       "      <td>26-35</td>\n",
       "      <td>3</td>\n",
       "      <td>A</td>\n",
       "      <td>2</td>\n",
       "      <td>0</td>\n",
       "      <td>1</td>\n",
       "      <td>15.0</td>\n",
       "      <td>NaN</td>\n",
       "      <td>15773</td>\n",
       "    </tr>\n",
       "    <tr>\n",
       "      <th>3</th>\n",
       "      <td>1000097</td>\n",
       "      <td>P00211242</td>\n",
       "      <td>F</td>\n",
       "      <td>36-45</td>\n",
       "      <td>3</td>\n",
       "      <td>C</td>\n",
       "      <td>3</td>\n",
       "      <td>0</td>\n",
       "      <td>8</td>\n",
       "      <td>12.0</td>\n",
       "      <td>NaN</td>\n",
       "      <td>8116</td>\n",
       "    </tr>\n",
       "    <tr>\n",
       "      <th>4</th>\n",
       "      <td>1005802</td>\n",
       "      <td>P00327142</td>\n",
       "      <td>F</td>\n",
       "      <td>26-35</td>\n",
       "      <td>0</td>\n",
       "      <td>A</td>\n",
       "      <td>4+</td>\n",
       "      <td>0</td>\n",
       "      <td>8</td>\n",
       "      <td>15.0</td>\n",
       "      <td>NaN</td>\n",
       "      <td>6144</td>\n",
       "    </tr>\n",
       "    <tr>\n",
       "      <th>5</th>\n",
       "      <td>1001912</td>\n",
       "      <td>P00276942</td>\n",
       "      <td>M</td>\n",
       "      <td>26-35</td>\n",
       "      <td>4</td>\n",
       "      <td>A</td>\n",
       "      <td>1</td>\n",
       "      <td>1</td>\n",
       "      <td>8</td>\n",
       "      <td>NaN</td>\n",
       "      <td>NaN</td>\n",
       "      <td>2122</td>\n",
       "    </tr>\n",
       "    <tr>\n",
       "      <th>6</th>\n",
       "      <td>1004285</td>\n",
       "      <td>P00295942</td>\n",
       "      <td>M</td>\n",
       "      <td>36-45</td>\n",
       "      <td>0</td>\n",
       "      <td>B</td>\n",
       "      <td>3</td>\n",
       "      <td>0</td>\n",
       "      <td>2</td>\n",
       "      <td>5.0</td>\n",
       "      <td>15.0</td>\n",
       "      <td>12715</td>\n",
       "    </tr>\n",
       "    <tr>\n",
       "      <th>7</th>\n",
       "      <td>1003320</td>\n",
       "      <td>P00134542</td>\n",
       "      <td>M</td>\n",
       "      <td>26-35</td>\n",
       "      <td>1</td>\n",
       "      <td>B</td>\n",
       "      <td>1</td>\n",
       "      <td>1</td>\n",
       "      <td>5</td>\n",
       "      <td>14.0</td>\n",
       "      <td>NaN</td>\n",
       "      <td>1766</td>\n",
       "    </tr>\n",
       "    <tr>\n",
       "      <th>8</th>\n",
       "      <td>1003080</td>\n",
       "      <td>P00184942</td>\n",
       "      <td>M</td>\n",
       "      <td>26-35</td>\n",
       "      <td>20</td>\n",
       "      <td>A</td>\n",
       "      <td>4+</td>\n",
       "      <td>1</td>\n",
       "      <td>1</td>\n",
       "      <td>8.0</td>\n",
       "      <td>17.0</td>\n",
       "      <td>15837</td>\n",
       "    </tr>\n",
       "    <tr>\n",
       "      <th>9</th>\n",
       "      <td>1001194</td>\n",
       "      <td>P00111942</td>\n",
       "      <td>F</td>\n",
       "      <td>26-35</td>\n",
       "      <td>1</td>\n",
       "      <td>B</td>\n",
       "      <td>1</td>\n",
       "      <td>1</td>\n",
       "      <td>8</td>\n",
       "      <td>17.0</td>\n",
       "      <td>NaN</td>\n",
       "      <td>10071</td>\n",
       "    </tr>\n",
       "    <tr>\n",
       "      <th>10</th>\n",
       "      <td>1001777</td>\n",
       "      <td>P00348942</td>\n",
       "      <td>M</td>\n",
       "      <td>26-35</td>\n",
       "      <td>20</td>\n",
       "      <td>C</td>\n",
       "      <td>0</td>\n",
       "      <td>0</td>\n",
       "      <td>8</td>\n",
       "      <td>13.0</td>\n",
       "      <td>NaN</td>\n",
       "      <td>9739</td>\n",
       "    </tr>\n",
       "    <tr>\n",
       "      <th>11</th>\n",
       "      <td>1000664</td>\n",
       "      <td>P00364842</td>\n",
       "      <td>M</td>\n",
       "      <td>36-45</td>\n",
       "      <td>18</td>\n",
       "      <td>C</td>\n",
       "      <td>2</td>\n",
       "      <td>1</td>\n",
       "      <td>5</td>\n",
       "      <td>16.0</td>\n",
       "      <td>NaN</td>\n",
       "      <td>5463</td>\n",
       "    </tr>\n",
       "    <tr>\n",
       "      <th>12</th>\n",
       "      <td>1003578</td>\n",
       "      <td>P00148642</td>\n",
       "      <td>M</td>\n",
       "      <td>51-55</td>\n",
       "      <td>3</td>\n",
       "      <td>C</td>\n",
       "      <td>0</td>\n",
       "      <td>1</td>\n",
       "      <td>6</td>\n",
       "      <td>10.0</td>\n",
       "      <td>13.0</td>\n",
       "      <td>19963</td>\n",
       "    </tr>\n",
       "    <tr>\n",
       "      <th>13</th>\n",
       "      <td>1004832</td>\n",
       "      <td>P00181542</td>\n",
       "      <td>M</td>\n",
       "      <td>26-35</td>\n",
       "      <td>14</td>\n",
       "      <td>C</td>\n",
       "      <td>1</td>\n",
       "      <td>0</td>\n",
       "      <td>11</td>\n",
       "      <td>16.0</td>\n",
       "      <td>NaN</td>\n",
       "      <td>6049</td>\n",
       "    </tr>\n",
       "    <tr>\n",
       "      <th>14</th>\n",
       "      <td>1004041</td>\n",
       "      <td>P00197942</td>\n",
       "      <td>M</td>\n",
       "      <td>18-25</td>\n",
       "      <td>3</td>\n",
       "      <td>B</td>\n",
       "      <td>2</td>\n",
       "      <td>0</td>\n",
       "      <td>6</td>\n",
       "      <td>11.0</td>\n",
       "      <td>NaN</td>\n",
       "      <td>12014</td>\n",
       "    </tr>\n",
       "  </tbody>\n",
       "</table>\n",
       "</div>"
      ],
      "text/plain": [
       "    User_ID Product_ID Gender    Age  Occupation City_Category  \\\n",
       "0   1004085  P00075742      F  26-35           6             A   \n",
       "1   1005491  P00234842      M  18-25           7             A   \n",
       "2   1003499  P00220142      M  26-35           3             A   \n",
       "3   1000097  P00211242      F  36-45           3             C   \n",
       "4   1005802  P00327142      F  26-35           0             A   \n",
       "5   1001912  P00276942      M  26-35           4             A   \n",
       "6   1004285  P00295942      M  36-45           0             B   \n",
       "7   1003320  P00134542      M  26-35           1             B   \n",
       "8   1003080  P00184942      M  26-35          20             A   \n",
       "9   1001194  P00111942      F  26-35           1             B   \n",
       "10  1001777  P00348942      M  26-35          20             C   \n",
       "11  1000664  P00364842      M  36-45          18             C   \n",
       "12  1003578  P00148642      M  51-55           3             C   \n",
       "13  1004832  P00181542      M  26-35          14             C   \n",
       "14  1004041  P00197942      M  18-25           3             B   \n",
       "\n",
       "   Stay_In_Current_City_Years  Marital_Status  Product_Category_1  \\\n",
       "0                           1               0                   8   \n",
       "1                           1               0                   5   \n",
       "2                           2               0                   1   \n",
       "3                           3               0                   8   \n",
       "4                          4+               0                   8   \n",
       "5                           1               1                   8   \n",
       "6                           3               0                   2   \n",
       "7                           1               1                   5   \n",
       "8                          4+               1                   1   \n",
       "9                           1               1                   8   \n",
       "10                          0               0                   8   \n",
       "11                          2               1                   5   \n",
       "12                          0               1                   6   \n",
       "13                          1               0                  11   \n",
       "14                          2               0                   6   \n",
       "\n",
       "    Product_Category_2  Product_Category_3  Purchase  \n",
       "0                 14.0                 NaN      7803  \n",
       "1                  6.0                16.0      6903  \n",
       "2                 15.0                 NaN     15773  \n",
       "3                 12.0                 NaN      8116  \n",
       "4                 15.0                 NaN      6144  \n",
       "5                  NaN                 NaN      2122  \n",
       "6                  5.0                15.0     12715  \n",
       "7                 14.0                 NaN      1766  \n",
       "8                  8.0                17.0     15837  \n",
       "9                 17.0                 NaN     10071  \n",
       "10                13.0                 NaN      9739  \n",
       "11                16.0                 NaN      5463  \n",
       "12                10.0                13.0     19963  \n",
       "13                16.0                 NaN      6049  \n",
       "14                11.0                 NaN     12014  "
      ]
     },
     "execution_count": 58,
     "metadata": {},
     "output_type": "execute_result"
    }
   ],
   "source": [
    "df.head(15)"
   ]
  },
  {
   "cell_type": "markdown",
   "metadata": {},
   "source": [
    "### Определим признаки"
   ]
  },
  {
   "cell_type": "code",
   "execution_count": 59,
   "metadata": {},
   "outputs": [],
   "source": [
    "feature_names = ['User_ID', 'Product_ID', 'Gender', 'Age', 'Occupation', 'City_Category',\n",
    "       'Stay_In_Current_City_Years', 'Marital_Status', 'Product_Category_1',\n",
    "       'Product_Category_2', 'Product_Category_3']\n",
    "\n",
    "target_name = 'Purchase'"
   ]
  },
  {
   "cell_type": "code",
   "execution_count": 60,
   "metadata": {},
   "outputs": [
    {
     "data": {
      "text/plain": [
       "User_ID                         int64\n",
       "Product_ID                     object\n",
       "Gender                         object\n",
       "Age                            object\n",
       "Occupation                      int64\n",
       "City_Category                  object\n",
       "Stay_In_Current_City_Years     object\n",
       "Marital_Status                  int64\n",
       "Product_Category_1              int64\n",
       "Product_Category_2            float64\n",
       "Product_Category_3            float64\n",
       "Purchase                        int64\n",
       "dtype: object"
      ]
     },
     "execution_count": 60,
     "metadata": {},
     "output_type": "execute_result"
    }
   ],
   "source": [
    "df.dtypes"
   ]
  },
  {
   "cell_type": "markdown",
   "metadata": {},
   "source": [
    "### **Изучим целевую переменную-  target**"
   ]
  },
  {
   "cell_type": "code",
   "execution_count": 61,
   "metadata": {},
   "outputs": [
    {
     "data": {
      "text/plain": [
       "count    80000.000000\n",
       "mean      9243.933162\n",
       "std       5021.298356\n",
       "min         12.000000\n",
       "25%       5679.750000\n",
       "50%       8039.000000\n",
       "75%      12046.000000\n",
       "max      23961.000000\n",
       "Name: Purchase, dtype: float64"
      ]
     },
     "execution_count": 61,
     "metadata": {},
     "output_type": "execute_result"
    }
   ],
   "source": [
    "df[target_name].describe()"
   ]
  },
  {
   "cell_type": "code",
   "execution_count": 62,
   "metadata": {},
   "outputs": [],
   "source": [
    "target_mean = df[target_name].mean()"
   ]
  },
  {
   "cell_type": "code",
   "execution_count": 63,
   "metadata": {},
   "outputs": [],
   "source": [
    "target_median = df[target_name].median()"
   ]
  },
  {
   "cell_type": "code",
   "execution_count": 64,
   "metadata": {},
   "outputs": [
    {
     "data": {
      "image/png": "[encoded data removed]",
      "text/plain": [
       "<Figure size 1008x504 with 2 Axes>"
      ]
     },
     "metadata": {
      "needs_background": "light"
     },
     "output_type": "display_data"
    }
   ],
   "source": [
    "plt.figure(figsize = (14,7))\n",
    "\n",
    "plt.subplot(121)\n",
    "df[target_name].hist(bins = 30, color = 'skyblue')\n",
    "y = np.linspace(0, 8000, 10)\n",
    "plt.plot([target_mean]*10, y, label='mean',  linewidth=4)\n",
    "plt.plot([target_median]*10, y, label='median',  linewidth=4)\n",
    "plt.xlabel('Purchase')\n",
    "plt.ylabel('Count')\n",
    "\n",
    "plt.subplot(122)\n",
    "sns.kdeplot(df[target_name], shade = True, color = 'red')\n",
    "\n",
    "plt.show()"
   ]
  },
  {
   "cell_type": "markdown",
   "metadata": {},
   "source": [
    "Распределение целевой переменной нельзя назвать нормальным, данные имеют очень широкие неоднородный разброс."
   ]
  },
  {
   "cell_type": "code",
   "execution_count": 65,
   "metadata": {},
   "outputs": [
    {
     "data": {
      "text/plain": [
       "16123"
      ]
     },
     "execution_count": 65,
     "metadata": {},
     "output_type": "execute_result"
    }
   ],
   "source": [
    "#Есть сильный неоднородный разброс после значения 14000. Посчитаем количество объектов наблюдений.\n",
    "df.loc[df['Purchase'] > 14000, 'Purchase'].count()"
   ]
  },
  {
   "cell_type": "code",
   "execution_count": 66,
   "metadata": {},
   "outputs": [],
   "source": [
    "#Количество наблюдений достаточно большое, чтобы от него избавляться.\n",
    "#df_train = df_train[df_train['Purchase'] < 14000]"
   ]
  },
  {
   "cell_type": "code",
   "execution_count": 67,
   "metadata": {},
   "outputs": [
    {
     "data": {
      "text/plain": [
       "1822"
      ]
     },
     "execution_count": 67,
     "metadata": {},
     "output_type": "execute_result"
    }
   ],
   "source": [
    "df.loc[df['Purchase'] > 20000, 'Purchase'].count()"
   ]
  },
  {
   "cell_type": "code",
   "execution_count": 68,
   "metadata": {},
   "outputs": [],
   "source": [
    "#df_train = df_train[df_train['Purchase'] < 20000]"
   ]
  },
  {
   "cell_type": "code",
   "execution_count": 69,
   "metadata": {},
   "outputs": [
    {
     "data": {
      "text/plain": [
       "8783"
      ]
     },
     "execution_count": 69,
     "metadata": {},
     "output_type": "execute_result"
    }
   ],
   "source": [
    "#Изучим слишком маленькие суммы покупкок\n",
    "df.loc[df[target_name] < 100, target_name].sum()"
   ]
  },
  {
   "cell_type": "code",
   "execution_count": 70,
   "metadata": {},
   "outputs": [],
   "source": [
    "#df_train = df_train[df_train['Purchase'] > 100]"
   ]
  },
  {
   "cell_type": "markdown",
   "metadata": {},
   "source": [
    "Попробовав разные варианты работы с целевой переменной, наиболее удачным вариантом оказалось не убирать из нее ни хвост, ни начало диапазона значаний, что обуславливается спецификой задачи и распространенностью Черной пятницы. Люди могут совершать покупку как на небольшие суммы, пользуясь приятной акцией, так и совершать крупные покупки, в том числе техника, или дорогая мебель для того, чтобы обустроить жилье.\n",
    "\n",
    "Покупок на сумму свыше 20 000 мало, но я не решаюсь называть это выбросом, т.к. речь идет о покупках и действительно позволить себе сделать крупную покупку может далеко не каждый, и, вероятно, кто-то дождался распродажи купить выгоднее что-то дорогое"
   ]
  },
  {
   "cell_type": "markdown",
   "metadata": {},
   "source": [
    "### Исследуемый датасет состоит из категориальных признаков.  \n",
    "### Изучим основные подробнее, а также оценим их влияние на целевую переменуню при помощи дисперсионного анализа"
   ]
  },
  {
   "cell_type": "markdown",
   "metadata": {},
   "source": [
    "#### Gender - пол"
   ]
  },
  {
   "cell_type": "code",
   "execution_count": 71,
   "metadata": {},
   "outputs": [
    {
     "data": {
      "text/plain": [
       "M    60068\n",
       "F    19932\n",
       "Name: Gender, dtype: int64"
      ]
     },
     "execution_count": 71,
     "metadata": {},
     "output_type": "execute_result"
    }
   ],
   "source": [
    "gender_counts = df['Gender'].value_counts()\n",
    "gender_counts"
   ]
  },
  {
   "cell_type": "markdown",
   "metadata": {},
   "source": [
    "Количество покупателей мужчин почти в 3 раза превосходит количество покупателей женщин\n",
    "Если при изучении значимости признаков окажется, что пол оказывает большое влияние на целевую переменную, необходимо с осторожностью обрабатывать спрос покупателей-женщин, т.к. их доля существенно меньше и ошибки будут иметь бОльший вес"
   ]
  },
  {
   "cell_type": "code",
   "execution_count": 72,
   "metadata": {},
   "outputs": [
    {
     "data": {
      "image/png": "[encoded data removed]",
      "text/plain": [
       "<Figure size 432x288 with 1 Axes>"
      ]
     },
     "metadata": {
      "needs_background": "light"
     },
     "output_type": "display_data"
    }
   ],
   "source": [
    "sns.barplot(gender_counts.index, gender_counts.values)\n",
    "plt.show()"
   ]
  },
  {
   "cell_type": "code",
   "execution_count": 73,
   "metadata": {},
   "outputs": [],
   "source": [
    "df.loc[df['Gender'] == 'M', 'Gender'] = 1\n",
    "df.loc[df['Gender'] == 'F', 'Gender'] = 0"
   ]
  },
  {
   "cell_type": "markdown",
   "metadata": {},
   "source": [
    "#### Изучим влияние признака Age при помощи дисперсионного анализа."
   ]
  },
  {
   "cell_type": "code",
   "execution_count": 74,
   "metadata": {},
   "outputs": [
    {
     "data": {
      "text/plain": [
       "F_onewayResult(statistic=272.2533617505495, pvalue=4.622890567169226e-61)"
      ]
     },
     "execution_count": 74,
     "metadata": {},
     "output_type": "execute_result"
    }
   ],
   "source": [
    "stats.f_oneway((df.loc[df['Gender']==0, 'Purchase']), \n",
    "               (df.loc[df['Gender']==1, 'Purchase'])) "
   ]
  },
  {
   "cell_type": "markdown",
   "metadata": {},
   "source": [
    "**Вывод** p-value cущественно меньше уровня значимости 5%, значит принимаем альтернативную гипотезу, т.е. средние арифметически имеют статистически значимые различия и признак Gender оказывает влияние на целевую переменную"
   ]
  },
  {
   "cell_type": "markdown",
   "metadata": {},
   "source": [
    "#### Age - возраст"
   ]
  },
  {
   "cell_type": "markdown",
   "metadata": {},
   "source": [
    "В данном признаке целесообразно определить минимум и максимум для понимания диапазона взраста покупателей"
   ]
  },
  {
   "cell_type": "code",
   "execution_count": 75,
   "metadata": {},
   "outputs": [
    {
     "data": {
      "text/plain": [
       "7"
      ]
     },
     "execution_count": 75,
     "metadata": {},
     "output_type": "execute_result"
    }
   ],
   "source": [
    "# Определим количество возрастных групп в наблюдениях:\n",
    "df['Age'].nunique()"
   ]
  },
  {
   "cell_type": "code",
   "execution_count": 76,
   "metadata": {},
   "outputs": [
    {
     "data": {
      "text/plain": [
       "26-35    32067\n",
       "36-45    16025\n",
       "18-25    14286\n",
       "46-50     6777\n",
       "51-55     5555\n",
       "55+       3110\n",
       "0-17      2180\n",
       "Name: Age, dtype: int64"
      ]
     },
     "execution_count": 76,
     "metadata": {},
     "output_type": "execute_result"
    }
   ],
   "source": [
    "# Посмотрим заброс покупателей по возрастным группам:\n",
    "age_counts = df['Age'].value_counts()\n",
    "age_counts"
   ]
  },
  {
   "cell_type": "markdown",
   "metadata": {},
   "source": [
    "Наибольшее количество покупок приходится на возрастную группу 26-35 лет. Можно предположить, что опираясь именно на этот возраст, можно выявить основные тендеции\n",
    "Самые низкие показатели у покупателей до 18 лет и у покупателей старше 55.\n",
    "\n",
    "Можно допустить, что небольшая доля покупок у покупалетей до 18 лет связана с ограничениями на площадке продажи\n",
    "\n",
    "Посмотрим нагляднее:"
   ]
  },
  {
   "cell_type": "code",
   "execution_count": 77,
   "metadata": {},
   "outputs": [
    {
     "data": {
      "image/png": "[encoded data removed]",
      "text/plain": [
       "<Figure size 432x288 with 1 Axes>"
      ]
     },
     "metadata": {
      "needs_background": "light"
     },
     "output_type": "display_data"
    }
   ],
   "source": [
    "sns.barplot(age_counts.index, age_counts.values)\n",
    "plt.show()"
   ]
  },
  {
   "cell_type": "code",
   "execution_count": 78,
   "metadata": {},
   "outputs": [
    {
     "data": {
      "text/plain": [
       "Age    Gender\n",
       "0-17   0           779\n",
       "       1          1401\n",
       "18-25  0          3634\n",
       "       1         10652\n",
       "26-35  0          7526\n",
       "       1         24541\n",
       "36-45  0          3943\n",
       "       1         12082\n",
       "46-50  0          1917\n",
       "       1          4860\n",
       "51-55  0          1393\n",
       "       1          4162\n",
       "55+    0           740\n",
       "       1          2370\n",
       "Name: User_ID, dtype: int64"
      ]
     },
     "execution_count": 78,
     "metadata": {},
     "output_type": "execute_result"
    }
   ],
   "source": [
    "#Изучим соотношение мужчин и жещин в каждой возрастной группе\n",
    "df.groupby(['Age', 'Gender'])['User_ID'].count()"
   ]
  },
  {
   "cell_type": "markdown",
   "metadata": {},
   "source": [
    "Более всего бросается в глаза разница в группе 26-35 лет и старше 55 лет"
   ]
  },
  {
   "cell_type": "code",
   "execution_count": 79,
   "metadata": {
    "scrolled": false
   },
   "outputs": [
    {
     "data": {
      "image/png": "[encoded data removed]",
      "text/plain": [
       "<Figure size 1152x576 with 1 Axes>"
      ]
     },
     "metadata": {
      "needs_background": "light"
     },
     "output_type": "display_data"
    }
   ],
   "source": [
    "plt.figure(figsize=(16, 8))\n",
    "\n",
    "sns.boxplot(df['Purchase'], df['Age'], whis=1.5)\n",
    "\n",
    "plt.xlabel('Purchase')\n",
    "plt.ylabel('Age')\n",
    "plt.title('Distribution of Purchase by Age')\n",
    "plt.show()"
   ]
  },
  {
   "cell_type": "markdown",
   "metadata": {},
   "source": [
    "По графику можно сделать вывод, что категории признака Age распределены с небольшими различиями, значение медианы примерно совпадает"
   ]
  },
  {
   "cell_type": "markdown",
   "metadata": {},
   "source": [
    "#### Изучим влияние признака Age при помощи дисперсионного анализа."
   ]
  },
  {
   "cell_type": "code",
   "execution_count": 80,
   "metadata": {},
   "outputs": [],
   "source": [
    "df.loc[df['Age'] == '0-17', 'Age'] = 1\n",
    "df.loc[df['Age'] == '18-25', 'Age'] = 2\n",
    "df.loc[df['Age'] == '26-35', 'Age'] = 3\n",
    "df.loc[df['Age'] == '36-45', 'Age'] = 4\n",
    "df.loc[df['Age'] == '46-50', 'Age'] = 5\n",
    "df.loc[df['Age'] == '51-55', 'Age'] = 6\n",
    "df.loc[df['Age'] == '55+', 'Age'] = 7"
   ]
  },
  {
   "cell_type": "code",
   "execution_count": 81,
   "metadata": {},
   "outputs": [
    {
     "data": {
      "text/plain": [
       "F_onewayResult(statistic=2.8128028236356317, pvalue=0.009752015972145037)"
      ]
     },
     "execution_count": 81,
     "metadata": {},
     "output_type": "execute_result"
    }
   ],
   "source": [
    "stats.f_oneway((df.loc[df['Age']==1, 'Purchase']), \n",
    "               (df.loc[df['Age']==2, 'Purchase']), \n",
    "               (df.loc[df['Age']==3, 'Purchase']),\n",
    "               (df.loc[df['Age']==4, 'Purchase']),\n",
    "               (df.loc[df['Age']==5, 'Purchase']),\n",
    "               (df.loc[df['Age']==6, 'Purchase']),\n",
    "               (df.loc[df['Age']==7, 'Purchase']))"
   ]
  },
  {
   "cell_type": "markdown",
   "metadata": {},
   "source": [
    "**Вывод:** p-value меньше уровня значимости 5%, значит принимаем альтернативную гипотезу, признак имеет влияние на целевую переменную"
   ]
  },
  {
   "cell_type": "markdown",
   "metadata": {},
   "source": [
    "#### Stay_In_Current_City_Years - кол-во лет проживания в текущем городе"
   ]
  },
  {
   "cell_type": "code",
   "execution_count": 82,
   "metadata": {},
   "outputs": [
    {
     "data": {
      "text/plain": [
       "1     28287\n",
       "2     14830\n",
       "3     13853\n",
       "4+    12250\n",
       "0     10780\n",
       "Name: Stay_In_Current_City_Years, dtype: int64"
      ]
     },
     "execution_count": 82,
     "metadata": {},
     "output_type": "execute_result"
    }
   ],
   "source": [
    "staying_counts = df['Stay_In_Current_City_Years'].value_counts()\n",
    "staying_counts"
   ]
  },
  {
   "cell_type": "code",
   "execution_count": 83,
   "metadata": {},
   "outputs": [
    {
     "data": {
      "image/png": "[encoded data removed]",
      "text/plain": [
       "<Figure size 432x288 with 1 Axes>"
      ]
     },
     "metadata": {
      "needs_background": "light"
     },
     "output_type": "display_data"
    }
   ],
   "source": [
    "sns.barplot(staying_counts.index, staying_counts.values)\n",
    "plt.show()"
   ]
  },
  {
   "cell_type": "markdown",
   "metadata": {},
   "source": [
    "Наибольшая доля покупателей - проживащие в городе примерно 1 год\n",
    "\n",
    "Наименьшая у только прибывших, что логично."
   ]
  },
  {
   "cell_type": "code",
   "execution_count": 84,
   "metadata": {
    "scrolled": true
   },
   "outputs": [
    {
     "data": {
      "text/plain": [
       "Stay_In_Current_City_Years  City_Category\n",
       "0                           A                 3472\n",
       "                            B                 4220\n",
       "                            C                 3088\n",
       "1                           A                 7170\n",
       "                            B                12204\n",
       "                            C                 8913\n",
       "2                           A                 3949\n",
       "                            B                 6065\n",
       "                            C                 4816\n",
       "3                           A                 3638\n",
       "                            B                 6210\n",
       "                            C                 4005\n",
       "4+                          A                 3226\n",
       "                            B                 5068\n",
       "                            C                 3956\n",
       "Name: User_ID, dtype: int64"
      ]
     },
     "execution_count": 84,
     "metadata": {},
     "output_type": "execute_result"
    }
   ],
   "source": [
    "city_group = df.groupby(['Stay_In_Current_City_Years', 'City_Category'])['User_ID'].count()\n",
    "city_group"
   ]
  },
  {
   "cell_type": "code",
   "execution_count": 85,
   "metadata": {},
   "outputs": [
    {
     "data": {
      "image/png": "[encoded data removed]",
      "text/plain": [
       "<Figure size 1152x576 with 1 Axes>"
      ]
     },
     "metadata": {
      "needs_background": "light"
     },
     "output_type": "display_data"
    }
   ],
   "source": [
    "plt.figure(figsize=(16, 8))\n",
    "\n",
    "sns.boxplot(df['Purchase'], df['Stay_In_Current_City_Years'], whis=1.5)\n",
    "\n",
    "plt.xlabel('Purchase')\n",
    "plt.ylabel('Stay_In_Current_City_Years')\n",
    "plt.title('Distribution of Purchase by Stay_In_Current_City_Years')\n",
    "plt.show()"
   ]
  },
  {
   "cell_type": "markdown",
   "metadata": {},
   "source": [
    "Распределение категорий признака Stay_In_Current_City_Years похоже на рапределение признака Age - медиана совпадает, интерквантильный размах несколько отличается от категории к категории"
   ]
  },
  {
   "cell_type": "markdown",
   "metadata": {},
   "source": [
    "#### Изучение влияние признака на целевую переменную при помощи дисперсионного анализа"
   ]
  },
  {
   "cell_type": "code",
   "execution_count": 86,
   "metadata": {},
   "outputs": [],
   "source": [
    "df.loc[df['Stay_In_Current_City_Years'] == '0', 'Stay_In_Current_City_Years'] = 1\n",
    "df.loc[df['Stay_In_Current_City_Years'] == '1', 'Stay_In_Current_City_Years'] = 2\n",
    "df.loc[df['Stay_In_Current_City_Years'] == '2', 'Stay_In_Current_City_Years'] = 3\n",
    "df.loc[df['Stay_In_Current_City_Years'] == '3', 'Stay_In_Current_City_Years'] = 4\n",
    "df.loc[df['Stay_In_Current_City_Years'] == '4+', 'Stay_In_Current_City_Years'] = 5"
   ]
  },
  {
   "cell_type": "code",
   "execution_count": 87,
   "metadata": {},
   "outputs": [
    {
     "data": {
      "text/plain": [
       "F_onewayResult(statistic=4.439336854806622, pvalue=0.001377466094480952)"
      ]
     },
     "execution_count": 87,
     "metadata": {},
     "output_type": "execute_result"
    }
   ],
   "source": [
    "stats.f_oneway((df.loc[df['Stay_In_Current_City_Years']==1, 'Purchase']), \n",
    "               (df.loc[df['Stay_In_Current_City_Years']==2, 'Purchase']), \n",
    "               (df.loc[df['Stay_In_Current_City_Years']==3, 'Purchase']),\n",
    "               (df.loc[df['Stay_In_Current_City_Years']==4, 'Purchase']),\n",
    "               (df.loc[df['Stay_In_Current_City_Years']==5, 'Purchase']))"
   ]
  },
  {
   "cell_type": "markdown",
   "metadata": {},
   "source": [
    "**Вывод** Уровень значимости 5% превышает p-value. Следовательно, отвергаем нулевую гипотезу и принимаем альтернативную."
   ]
  },
  {
   "cell_type": "markdown",
   "metadata": {},
   "source": [
    "#### Occupation - категория рода деятельности"
   ]
  },
  {
   "cell_type": "code",
   "execution_count": 88,
   "metadata": {},
   "outputs": [
    {
     "data": {
      "text/plain": [
       "array([ 6,  7,  3,  0,  4,  1, 20, 18, 14, 17, 16, 10, 12,  2, 15, 19,  9,\n",
       "       13,  5, 11,  8])"
      ]
     },
     "execution_count": 88,
     "metadata": {},
     "output_type": "execute_result"
    }
   ],
   "source": [
    "df['Occupation'].unique()"
   ]
  },
  {
   "cell_type": "code",
   "execution_count": 89,
   "metadata": {},
   "outputs": [
    {
     "data": {
      "text/plain": [
       "21"
      ]
     },
     "execution_count": 89,
     "metadata": {},
     "output_type": "execute_result"
    }
   ],
   "source": [
    "df['Occupation'].nunique()"
   ]
  },
  {
   "cell_type": "code",
   "execution_count": 90,
   "metadata": {},
   "outputs": [
    {
     "data": {
      "text/plain": [
       "0     10188\n",
       "1      6921\n",
       "2      3849\n",
       "3      2598\n",
       "4     10443\n",
       "5      1824\n",
       "6      2902\n",
       "7      8474\n",
       "8       234\n",
       "9       857\n",
       "10     1876\n",
       "11     1706\n",
       "12     4559\n",
       "13     1132\n",
       "14     4030\n",
       "15     1712\n",
       "16     3724\n",
       "17     5815\n",
       "18     1011\n",
       "19     1258\n",
       "20     4887\n",
       "Name: Occupation, dtype: int64"
      ]
     },
     "execution_count": 90,
     "metadata": {},
     "output_type": "execute_result"
    }
   ],
   "source": [
    "occupation_counts = df['Occupation'].value_counts().sort_index()\n",
    "occupation_counts"
   ]
  },
  {
   "cell_type": "code",
   "execution_count": 91,
   "metadata": {},
   "outputs": [
    {
     "data": {
      "image/png": "[encoded data removed]",
      "text/plain": [
       "<Figure size 432x288 with 1 Axes>"
      ]
     },
     "metadata": {
      "needs_background": "light"
     },
     "output_type": "display_data"
    }
   ],
   "source": [
    "sns.barplot(occupation_counts.index, occupation_counts.values)\n",
    "plt.show()"
   ]
  },
  {
   "cell_type": "markdown",
   "metadata": {},
   "source": [
    "Большая часть покупок приходится на покупателей, работающих в сфере деятельности 0, 1 и 7.\n",
    "\n",
    "Совсем мало покупок совершают покупатели категории 8 "
   ]
  },
  {
   "cell_type": "markdown",
   "metadata": {},
   "source": [
    "#### Изучение влияние признака на целевую переменную при помощи дисперсионного анализа"
   ]
  },
  {
   "cell_type": "code",
   "execution_count": 92,
   "metadata": {},
   "outputs": [
    {
     "data": {
      "text/plain": [
       "F_onewayResult(statistic=15.547497384651336, pvalue=6.098409080470531e-54)"
      ]
     },
     "execution_count": 92,
     "metadata": {},
     "output_type": "execute_result"
    }
   ],
   "source": [
    "stats.f_oneway((df.loc[df['Occupation']==0, 'Purchase']), \n",
    "               (df.loc[df['Occupation']==1, 'Purchase']), \n",
    "               (df.loc[df['Occupation']==2, 'Purchase']),\n",
    "               (df.loc[df['Occupation']==3, 'Purchase']),\n",
    "               (df.loc[df['Occupation']==4, 'Purchase']),\n",
    "               (df.loc[df['Occupation']==5, 'Purchase']),\n",
    "               (df.loc[df['Occupation']==6, 'Purchase']),\n",
    "               (df.loc[df['Occupation']==7, 'Purchase']),\n",
    "               (df.loc[df['Occupation']==8, 'Purchase']),\n",
    "               (df.loc[df['Occupation']==9, 'Purchase']),\n",
    "               (df.loc[df['Occupation']==10, 'Purchase']),\n",
    "               (df.loc[df['Occupation']==11, 'Purchase']), \n",
    "               (df.loc[df['Occupation']==12, 'Purchase']), \n",
    "               (df.loc[df['Occupation']==13, 'Purchase']),\n",
    "               (df.loc[df['Occupation']==14, 'Purchase']),\n",
    "               (df.loc[df['Occupation']==15, 'Purchase']),\n",
    "               (df.loc[df['Occupation']==16, 'Purchase']),\n",
    "               (df.loc[df['Occupation']==17, 'Purchase']),\n",
    "               (df.loc[df['Occupation']==18, 'Purchase']),\n",
    "               (df.loc[df['Occupation']==19, 'Purchase']),\n",
    "               (df.loc[df['Occupation']==20, 'Purchase']))"
   ]
  },
  {
   "cell_type": "markdown",
   "metadata": {},
   "source": [
    "**Вывод** p-value cущественно меньше уровня значимости 5%, значит принимаем альтернативную гипотезу, т.е. средние арифметически имеют статистически значимые различия и признак Occupation оказывает влияние на целевую переменную"
   ]
  },
  {
   "cell_type": "markdown",
   "metadata": {},
   "source": [
    "#### City_Category - город проживания"
   ]
  },
  {
   "cell_type": "code",
   "execution_count": 93,
   "metadata": {},
   "outputs": [
    {
     "data": {
      "text/plain": [
       "B    33767\n",
       "C    24778\n",
       "A    21455\n",
       "Name: City_Category, dtype: int64"
      ]
     },
     "execution_count": 93,
     "metadata": {},
     "output_type": "execute_result"
    }
   ],
   "source": [
    "city_counts = df['City_Category'].value_counts()\n",
    "city_counts"
   ]
  },
  {
   "cell_type": "code",
   "execution_count": 94,
   "metadata": {},
   "outputs": [
    {
     "data": {
      "text/plain": [
       "<AxesSubplot:>"
      ]
     },
     "execution_count": 94,
     "metadata": {},
     "output_type": "execute_result"
    },
    {
     "data": {
      "image/png": "[encoded data removed]",
      "text/plain": [
       "<Figure size 432x288 with 1 Axes>"
      ]
     },
     "metadata": {
      "needs_background": "light"
     },
     "output_type": "display_data"
    }
   ],
   "source": [
    "sns.barplot(city_counts.index, city_counts.values)"
   ]
  },
  {
   "cell_type": "markdown",
   "metadata": {},
   "source": [
    "Изучаются покупатели в 3 городах, большая часть которых проживает в городе B.\n",
    "Распределение по городам в целом можно назвать равномерным "
   ]
  },
  {
   "cell_type": "code",
   "execution_count": 95,
   "metadata": {},
   "outputs": [
    {
     "data": {
      "image/png": "[encoded data removed]",
      "text/plain": [
       "<Figure size 1152x576 with 1 Axes>"
      ]
     },
     "metadata": {
      "needs_background": "light"
     },
     "output_type": "display_data"
    }
   ],
   "source": [
    "plt.figure(figsize=(16, 8))\n",
    "\n",
    "sns.boxplot(df['Purchase'], df['City_Category'], whis=1.5)\n",
    "\n",
    "plt.xlabel('Purchase')\n",
    "plt.ylabel('City_Category')\n",
    "plt.title('Distribution of Purchase by Age')\n",
    "plt.show()"
   ]
  },
  {
   "cell_type": "markdown",
   "metadata": {},
   "source": [
    "На графике распределение категорий отличается.\n",
    "#### Изучим влияние признака City_Category на целевую переменную с помощью дисперсионного анализа"
   ]
  },
  {
   "cell_type": "code",
   "execution_count": 96,
   "metadata": {},
   "outputs": [],
   "source": [
    "df.loc[df['City_Category'] == 'A', 'City_Category'] = 0\n",
    "df.loc[df['City_Category'] == 'B', 'City_Category'] = 1\n",
    "df.loc[df['City_Category'] == 'C', 'City_Category'] = 2"
   ]
  },
  {
   "cell_type": "code",
   "execution_count": 97,
   "metadata": {},
   "outputs": [
    {
     "data": {
      "text/plain": [
       "F_onewayResult(statistic=173.5555349851725, pvalue=6.149554151245853e-76)"
      ]
     },
     "execution_count": 97,
     "metadata": {},
     "output_type": "execute_result"
    }
   ],
   "source": [
    "stats.f_oneway((df.loc[df['City_Category']==0, 'Purchase']), \n",
    "               (df.loc[df['City_Category']==1, 'Purchase']), \n",
    "               (df.loc[df['City_Category']==2, 'Purchase']))"
   ]
  },
  {
   "cell_type": "markdown",
   "metadata": {},
   "source": [
    "**Вывод** p-value cущественно меньше уровня значимости 5%, значит принимаем альтернативную гипотезу, т.е. средние арифметически имеют статистически значимые различия и признак City_Category оказывает влияние на целевую переменную"
   ]
  },
  {
   "cell_type": "markdown",
   "metadata": {},
   "source": [
    "#### Marital_Status  "
   ]
  },
  {
   "cell_type": "code",
   "execution_count": 98,
   "metadata": {},
   "outputs": [],
   "source": [
    "marital_counts = df['Marital_Status'].value_counts()"
   ]
  },
  {
   "cell_type": "code",
   "execution_count": 99,
   "metadata": {},
   "outputs": [
    {
     "data": {
      "image/png": "[encoded data removed]",
      "text/plain": [
       "<Figure size 432x288 with 1 Axes>"
      ]
     },
     "metadata": {
      "needs_background": "light"
     },
     "output_type": "display_data"
    }
   ],
   "source": [
    "sns.barplot(marital_counts.index, marital_counts.values)\n",
    "plt.show()"
   ]
  },
  {
   "cell_type": "markdown",
   "metadata": {},
   "source": [
    "Сильного разброса между людьми,  находящимися в браке и не в браке нет. "
   ]
  },
  {
   "cell_type": "code",
   "execution_count": 100,
   "metadata": {},
   "outputs": [
    {
     "data": {
      "text/plain": [
       "Age  Marital_Status\n",
       "1    0                  2180\n",
       "2    0                 11234\n",
       "     1                  3052\n",
       "3    0                 19572\n",
       "     1                 12495\n",
       "4    0                  9695\n",
       "     1                  6330\n",
       "5    0                  1871\n",
       "     1                  4906\n",
       "6    0                  1581\n",
       "     1                  3974\n",
       "7    0                  1116\n",
       "     1                  1994\n",
       "Name: User_ID, dtype: int64"
      ]
     },
     "execution_count": 100,
     "metadata": {},
     "output_type": "execute_result"
    }
   ],
   "source": [
    "df.groupby(['Age', 'Marital_Status'])['User_ID'].count()"
   ]
  },
  {
   "cell_type": "markdown",
   "metadata": {},
   "source": [
    "В группах до 45 лет большинство покупок делают люди, не находящиеся в браке и с каждой группой разница сокращается. \n",
    "После 46 лет доля покупателей в браке существенно превышает долю неженатых. Вероятно, в данном регионе достаточно поздний возраст вступления в брак\n",
    "\n",
    "До 18 лет вступивших в брак нет - выбросов в данном случае не обнаружено\n",
    "\n",
    "#### Изучим влияние признака на целевую переменную с помощью дисперсионного анализа"
   ]
  },
  {
   "cell_type": "code",
   "execution_count": 101,
   "metadata": {},
   "outputs": [
    {
     "data": {
      "text/plain": [
       "F_onewayResult(statistic=0.7893786419521853, pvalue=0.3742907479940376)"
      ]
     },
     "execution_count": 101,
     "metadata": {},
     "output_type": "execute_result"
    }
   ],
   "source": [
    "stats.f_oneway((df.loc[df['Marital_Status']==0, 'Purchase']), \n",
    "               (df.loc[df['Marital_Status']==1, 'Purchase']))"
   ]
  },
  {
   "cell_type": "markdown",
   "metadata": {},
   "source": [
    "**Вывод** p-value 37% cущественно выше уровня значимости 5%, значит принимаем нулевую гипотезу, т.е. средние арифметически не имеют статистически значимых различий и признак Marital_Status не оказывает влияние на целевую переменную"
   ]
  },
  {
   "cell_type": "markdown",
   "metadata": {},
   "source": [
    "**ИТОГО** из изученных категориальных признаков, Marital_Status не оказывает влияния на целевой признак Purchase в результате проведенного дисперсионного анализа при заданном уровне значимости 5%"
   ]
  },
  {
   "cell_type": "code",
   "execution_count": null,
   "metadata": {},
   "outputs": [],
   "source": []
  }
 ],
 "metadata": {
  "kernelspec": {
   "display_name": "Python 3",
   "language": "python",
   "name": "python3"
  },
  "language_info": {
   "codemirror_mode": {
    "name": "ipython",
    "version": 3
   },
   "file_extension": ".py",
   "mimetype": "text/x-python",
   "name": "python",
   "nbconvert_exporter": "python",
   "pygments_lexer": "ipython3",
   "version": "3.9.2"
  }
 },
 "nbformat": 4,
 "nbformat_minor": 4
}
