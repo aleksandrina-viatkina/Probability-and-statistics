{
 "cells": [
  {
   "cell_type": "markdown",
   "id": "occupational-classification",
   "metadata": {},
   "source": [
    "**Задача 1.\n",
    "Из колоды в 52 карты извлекаются случайным образом 4 карты.**"
   ]
  },
  {
   "cell_type": "markdown",
   "id": "manufactured-interest",
   "metadata": {},
   "source": [
    "**a)** Найти вероятность того, что все карты – крести. "
   ]
  },
  {
   "cell_type": "code",
   "execution_count": 15,
   "id": "illegal-convergence",
   "metadata": {},
   "outputs": [
    {
     "data": {
      "text/plain": [
       "13.0"
      ]
     },
     "execution_count": 15,
     "metadata": {},
     "output_type": "execute_result"
    }
   ],
   "source": [
    "# крестовых карт всего \n",
    "52/4"
   ]
  },
  {
   "cell_type": "code",
   "execution_count": 16,
   "id": "criminal-stopping",
   "metadata": {},
   "outputs": [
    {
     "data": {
      "text/plain": [
       "0.25"
      ]
     },
     "execution_count": 16,
     "metadata": {},
     "output_type": "execute_result"
    }
   ],
   "source": [
    "#Пусть события вытаскивания 1, 2, 3 и 4 карт соответствуют событиям А, B, C, D\n",
    "#Т.е. вероятность вытащить первую крестовую карту\n",
    "P_A = 13/52\n",
    "P_A"
   ]
  },
  {
   "cell_type": "code",
   "execution_count": 17,
   "id": "entitled-monkey",
   "metadata": {},
   "outputs": [],
   "source": [
    "# Вытаскивание последующих карт будет зависимыми событиями, и вероятность будет понижаться, \n",
    "#т. к. в колоде будет убывать на одну карту\n",
    "P_B = 12/51   #P(B|A)\n",
    "P_C = 11/50   #P(C|B)\n",
    "P_D = 10/49   #P(D|C)"
   ]
  },
  {
   "cell_type": "code",
   "execution_count": 18,
   "id": "fleet-diana",
   "metadata": {},
   "outputs": [
    {
     "name": "stdout",
     "output_type": "stream",
     "text": [
      "Вывод: вероятность того, что извлеченные карты будут крести - 0.0026410564225690276\n"
     ]
    }
   ],
   "source": [
    "P = P_A * P_B * P_C * P_D\n",
    "print(f'Вывод: вероятность того, что извлеченные карты будут крести - {P}')"
   ]
  },
  {
   "cell_type": "markdown",
   "id": "composed-rings",
   "metadata": {},
   "source": [
    "**б)** Найти вероятность, что среди 4-х карт окажется хотя бы один туз."
   ]
  },
  {
   "cell_type": "code",
   "execution_count": 19,
   "id": "spiritual-private",
   "metadata": {},
   "outputs": [],
   "source": [
    "from math import factorial"
   ]
  },
  {
   "cell_type": "code",
   "execution_count": 20,
   "id": "adaptive-license",
   "metadata": {},
   "outputs": [],
   "source": [
    "def combinations(n, k):\n",
    "    return int(factorial(n)/(factorial(k)* factorial(n-k)))"
   ]
  },
  {
   "cell_type": "markdown",
   "id": "natural-sacramento",
   "metadata": {},
   "source": [
    "* 1 случай - 1 туз и 3 другие карты\n",
    "* 2 случай - 2 туза и 2 другие карты\n",
    "* 3 случай - 3 туза и 1 другая карта\n",
    "* 4 случай - все 4 туза \n",
    "\n",
    "Разобьем на 2 подмножества - тузы и остальные карты"
   ]
  },
  {
   "cell_type": "code",
   "execution_count": 21,
   "id": "prescription-origin",
   "metadata": {},
   "outputs": [
    {
     "name": "stdout",
     "output_type": "stream",
     "text": [
      "C1 = 69184 \n",
      "C2 = 6768 \n",
      "C3 = 192 \n",
      "C4 = 1\n"
     ]
    }
   ],
   "source": [
    "C1 = combinations(4,1) * combinations(48,3)\n",
    "C2 = combinations(4,2) * combinations(48,2)\n",
    "C3 = combinations(4,3) * combinations(48,1)\n",
    "C4 = combinations(4,4) * combinations(48,0)\n",
    "\n",
    "print(f'C1 = {C1} \\nC2 = {C2} \\nC3 = {C3} \\nC4 = {C4}')"
   ]
  },
  {
   "cell_type": "code",
   "execution_count": 22,
   "id": "fancy-anthropology",
   "metadata": {},
   "outputs": [
    {
     "data": {
      "text/plain": [
       "76145"
      ]
     },
     "execution_count": 22,
     "metadata": {},
     "output_type": "execute_result"
    }
   ],
   "source": [
    "C = C1 + C2 + C3 + C4\n",
    "C"
   ]
  },
  {
   "cell_type": "code",
   "execution_count": 23,
   "id": "intermediate-occasion",
   "metadata": {},
   "outputs": [
    {
     "data": {
      "text/plain": [
       "270725"
      ]
     },
     "execution_count": 23,
     "metadata": {},
     "output_type": "execute_result"
    }
   ],
   "source": [
    "# Надем все возможные сочетания из 4 карт\n",
    "C_all = combinations(52, 4)\n",
    "C_all"
   ]
  },
  {
   "cell_type": "code",
   "execution_count": 24,
   "id": "female-clear",
   "metadata": {},
   "outputs": [
    {
     "name": "stdout",
     "output_type": "stream",
     "text": [
      "Вывод: вероятность того, что извлеченные карты будут крести - 0.281\n"
     ]
    }
   ],
   "source": [
    "P = C/C_all\n",
    "print(f'Вывод: вероятность того, что извлеченные карты будут крести - {P:.3f}')"
   ]
  },
  {
   "cell_type": "markdown",
   "id": "baking-uncertainty",
   "metadata": {},
   "source": [
    "**Задача 2. На входной двери подъезда установлен кодовый замок, содержащий десять кнопок с цифрами от 0 до 9. Код содержит три цифры, которые нужно нажать одновременно. Какова вероятность того, что человек, не знающий код, откроет дверь с первой попытки?**"
   ]
  },
  {
   "cell_type": "code",
   "execution_count": 25,
   "id": "comparative-garlic",
   "metadata": {},
   "outputs": [],
   "source": [
    "# используем сочетания, т к порядок не важен!"
   ]
  },
  {
   "cell_type": "code",
   "execution_count": 26,
   "id": "raising-desire",
   "metadata": {},
   "outputs": [
    {
     "data": {
      "text/plain": [
       "120"
      ]
     },
     "execution_count": 26,
     "metadata": {},
     "output_type": "execute_result"
    }
   ],
   "source": [
    "#найдем количество возможных вариантов выбора 3 цифр на замке\n",
    "n = combinations(10, 3)\n",
    "n"
   ]
  },
  {
   "cell_type": "code",
   "execution_count": 51,
   "id": "finished-specification",
   "metadata": {},
   "outputs": [
    {
     "data": {
      "text/plain": [
       "1"
      ]
     },
     "execution_count": 51,
     "metadata": {},
     "output_type": "execute_result"
    }
   ],
   "source": [
    "m = 1 #число удачных исходов (нас интересует открытие с 1 попытки)\n",
    "#проверим по сочетаниям:\n",
    "m = combinations(3,3)\n",
    "m"
   ]
  },
  {
   "cell_type": "code",
   "execution_count": 50,
   "id": "loaded-routine",
   "metadata": {},
   "outputs": [
    {
     "name": "stdout",
     "output_type": "stream",
     "text": [
      "Вывод: вероятность открытие замка с 1 попытки составит 0.0083\n"
     ]
    }
   ],
   "source": [
    "m = 1 #число удачных исходов (нас интересует открытие с 1 попытки)\n",
    "P = m/n\n",
    "print(f'Вывод: вероятность открытие замка с 1 попытки составит {P:.4f}')"
   ]
  },
  {
   "cell_type": "markdown",
   "id": "thick-vitamin",
   "metadata": {},
   "source": [
    "**Задача 3. В ящике имеется 15 деталей, из которых 9 окрашены. Рабочий случайным образом извлекает 3 детали. Какова вероятность того, что все извлеченные детали окрашены?**"
   ]
  },
  {
   "cell_type": "code",
   "execution_count": 28,
   "id": "compound-medication",
   "metadata": {},
   "outputs": [],
   "source": [
    "# Находим сочетания 3 доставаемых деталей из 9 окрашенных - это будут успешные исходы \n",
    "C1 = combinations(9, 3)\n",
    "\n",
    "#Находим сочетания 3 доставаемых деталей из 15 всего деталей\n",
    "C2 = combinations(15, 3)\n"
   ]
  },
  {
   "cell_type": "code",
   "execution_count": 29,
   "id": "level-customs",
   "metadata": {},
   "outputs": [
    {
     "name": "stdout",
     "output_type": "stream",
     "text": [
      "Вероятность достать 3 окрашенные детали из ящика составит 0.185\n"
     ]
    }
   ],
   "source": [
    "P = C1/C2\n",
    "\n",
    "print(f'Вероятность достать 3 окрашенные детали из ящика составит {P:.3f}')"
   ]
  },
  {
   "cell_type": "markdown",
   "id": "compliant-clinic",
   "metadata": {},
   "source": [
    "**Задача 4. В лотерее 100 билетов. Из них 2 выигрышных. Какова вероятность того, что 2 приобретенных билета окажутся выигрышными?**"
   ]
  },
  {
   "cell_type": "code",
   "execution_count": 30,
   "id": "stopped-literature",
   "metadata": {},
   "outputs": [],
   "source": [
    "# Находим сочетания 2 купленных билетов из 2 выигрышных - это будут успешные исходы события (2 билета оказались выигрышными)\n",
    "C1 = combinations(2, 2)\n",
    "\n",
    "#Находим сочетания 2 купленных билетов из 100 \n",
    "C2 = combinations(100, 2)\n",
    "\n"
   ]
  },
  {
   "cell_type": "code",
   "execution_count": 31,
   "id": "unusual-sydney",
   "metadata": {},
   "outputs": [
    {
     "name": "stdout",
     "output_type": "stream",
     "text": [
      "Вероятность того, что купленные два билета окажутся выигрышными составит 0.00020\n"
     ]
    }
   ],
   "source": [
    "P = C1/C2\n",
    "\n",
    "print(f'Вероятность того, что купленные два билета окажутся выигрышными составит {P:.5f}')"
   ]
  }
 ],
 "metadata": {
  "kernelspec": {
   "display_name": "Python 3",
   "language": "python",
   "name": "python3"
  },
  "language_info": {
   "codemirror_mode": {
    "name": "ipython",
    "version": 3
   },
   "file_extension": ".py",
   "mimetype": "text/x-python",
   "name": "python",
   "nbconvert_exporter": "python",
   "pygments_lexer": "ipython3",
   "version": "3.9.2"
  }
 },
 "nbformat": 4,
 "nbformat_minor": 5
}
